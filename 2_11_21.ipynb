{
  "nbformat": 4,
  "nbformat_minor": 0,
  "metadata": {
    "colab": {
      "name": "2-11-21.ipynb",
      "provenance": [],
      "authorship_tag": "ABX9TyP6vp7Xeag3ypKRGn2Ojk4N",
      "include_colab_link": true
    },
    "kernelspec": {
      "name": "python3",
      "display_name": "Python 3"
    },
    "language_info": {
      "name": "python"
    }
  },
  "cells": [
    {
      "cell_type": "markdown",
      "metadata": {
        "id": "view-in-github",
        "colab_type": "text"
      },
      "source": [
        "<a href=\"https://colab.research.google.com/github/Ivanbh214/Machine_learning_Course_CIFO/blob/main/2_11_21.ipynb\" target=\"_parent\"><img src=\"https://colab.research.google.com/assets/colab-badge.svg\" alt=\"Open In Colab\"/></a>"
      ]
    },
    {
      "cell_type": "markdown",
      "metadata": {
        "id": "UMeJx_qkzYIO"
      },
      "source": [
        "**Día_4_2/11/21**\n",
        "\n",
        "#Superclases\n",
        "##Método super\n",
        "\n",
        "No tiene argumentos, es un solo un método.\n",
        "\n",
        "Ver Herencia en python \n",
        "\n",
        "https://docs.hektorprofe.net/python/herencia-en-la-poo/herencia/\n"
      ]
    },
    {
      "cell_type": "code",
      "metadata": {
        "id": "tOThwzTozEGd"
      },
      "source": [
        "class FragmentDeText:\n",
        "  def __init__(self, textString = None):\n",
        "    if textString == None: self.text = \"Text\"\n",
        "    else: self.text = textString\n",
        "    self.espais = self.comptaEspais()\n",
        "  def comptaEspais(self):\n",
        "    co = 0\n",
        "    for x in self.text:\n",
        "      if x == \" \": co +=1\n",
        "    return co \n",
        "  def __str__(self): return self.text\n",
        "\n",
        "class Paraula(FragmentDeText):\n",
        "  def __init__(self, paraula = None):\n",
        "    #FragmentDeText.__init__(self, paraula)\n",
        "    super().__init__(paraula)\n",
        "    if self.espais > 0:\n",
        "      self.text = \"\"\n",
        "      self.longitud = 0\n",
        "    elif paraula: self.longitud = len(paraula)\n",
        "    else: self.longitud = len(self.text)\n",
        "  def inicial(self):\n",
        "    if self.text == \"\": return \"\"\n",
        "    else: return self.text[0] "
      ],
      "execution_count": 1,
      "outputs": []
    },
    {
      "cell_type": "code",
      "metadata": {
        "id": "zi5PYC7rzXmI"
      },
      "source": [
        "t = FragmentDeText(\"Machine Learning\")"
      ],
      "execution_count": 3,
      "outputs": []
    },
    {
      "cell_type": "code",
      "metadata": {
        "id": "Et_ntJOh1bEm"
      },
      "source": [
        "a = Paraula(\"Machine\")"
      ],
      "execution_count": 4,
      "outputs": []
    },
    {
      "cell_type": "code",
      "metadata": {
        "colab": {
          "base_uri": "https://localhost:8080/"
        },
        "id": "mJXq9v1n1fH9",
        "outputId": "481f482f-e3ec-4901-dfcf-7e1ab4386064"
      },
      "source": [
        "print(a)"
      ],
      "execution_count": 5,
      "outputs": [
        {
          "output_type": "stream",
          "name": "stdout",
          "text": [
            "Machine\n"
          ]
        }
      ]
    },
    {
      "cell_type": "code",
      "metadata": {
        "colab": {
          "base_uri": "https://localhost:8080/"
        },
        "id": "GZc_WJvY2B9l",
        "outputId": "fecd43d0-9922-43ea-86c3-574dcb86f2bc"
      },
      "source": [
        "#Muestra el tipo de objeto\n",
        "print(FragmentDeText.__bases__)"
      ],
      "execution_count": 6,
      "outputs": [
        {
          "output_type": "stream",
          "name": "stdout",
          "text": [
            "(<class 'object'>,)\n"
          ]
        }
      ]
    },
    {
      "cell_type": "code",
      "metadata": {
        "colab": {
          "base_uri": "https://localhost:8080/"
        },
        "id": "_TL4Bakr2ap2",
        "outputId": "a3b5d76f-9389-43e3-e863-6794638e48c9"
      },
      "source": [
        "#Muestra todo el arbol genealógico del método para orientarnos en la gerarquía\n",
        "print(Paraula.__mro__)"
      ],
      "execution_count": 7,
      "outputs": [
        {
          "output_type": "stream",
          "name": "stdout",
          "text": [
            "(<class '__main__.Paraula'>, <class '__main__.FragmentDeText'>, <class 'object'>)\n"
          ]
        }
      ]
    },
    {
      "cell_type": "markdown",
      "metadata": {
        "id": "TmHps-4t3TFF"
      },
      "source": [
        "Es conveniente siempre antes de una función explicar que hace, como trata los data ... etc. \n",
        "Una manera de hacerlo es con la # o con las \"\"\" (triples comas), también sirve para guarda lineas de texto largas\n"
      ]
    },
    {
      "cell_type": "code",
      "metadata": {
        "id": "rBgMijoc2_1Z"
      },
      "source": [
        "s = \"Machine\""
      ],
      "execution_count": 8,
      "outputs": []
    },
    {
      "cell_type": "code",
      "metadata": {
        "colab": {
          "base_uri": "https://localhost:8080/",
          "height": 35
        },
        "id": "vN8Dnejl2tN7",
        "outputId": "c7adffe9-dbca-4e26-eff8-611659411e7f"
      },
      "source": [
        "s"
      ],
      "execution_count": 9,
      "outputs": [
        {
          "output_type": "execute_result",
          "data": {
            "application/vnd.google.colaboratory.intrinsic+json": {
              "type": "string"
            },
            "text/plain": [
              "'Machine'"
            ]
          },
          "metadata": {},
          "execution_count": 9
        }
      ]
    },
    {
      "cell_type": "code",
      "metadata": {
        "id": "iGd3RHCg4RHt"
      },
      "source": [
        "s = \"\"\"Aquest text\n",
        "sera molt llarg\"\"\""
      ],
      "execution_count": 10,
      "outputs": []
    },
    {
      "cell_type": "code",
      "metadata": {
        "colab": {
          "base_uri": "https://localhost:8080/",
          "height": 35
        },
        "id": "EE3dZBMI4RNa",
        "outputId": "05165d35-6976-4fdd-fcc2-09df92237e01"
      },
      "source": [
        "s"
      ],
      "execution_count": 11,
      "outputs": [
        {
          "output_type": "execute_result",
          "data": {
            "application/vnd.google.colaboratory.intrinsic+json": {
              "type": "string"
            },
            "text/plain": [
              "'Aquest text\\nsera molt llarg'"
            ]
          },
          "metadata": {},
          "execution_count": 11
        }
      ]
    },
    {
      "cell_type": "markdown",
      "metadata": {
        "id": "tbODovH044Vj"
      },
      "source": [
        "El uso de la las \"\" o '' para cadenas de caracterés es el mismo. A veces, para el temas como el procesamiento natural del lenguage se incluye dentro de un texto las comas simples. Se utilizan diferentes tipos de comas para saber los diferentes niveles."
      ]
    },
    {
      "cell_type": "code",
      "metadata": {
        "id": "24EzphlN4tQc"
      },
      "source": [
        "a = \"Machine\"\n",
        "b = 'Learning'"
      ],
      "execution_count": 14,
      "outputs": []
    },
    {
      "cell_type": "code",
      "metadata": {
        "id": "Qlm7uGyL43TU"
      },
      "source": [
        "a = \"Plató va dir 'Les idees son reals\""
      ],
      "execution_count": 12,
      "outputs": []
    },
    {
      "cell_type": "code",
      "metadata": {
        "colab": {
          "base_uri": "https://localhost:8080/"
        },
        "id": "1vNB0eeR5gr7",
        "outputId": "e568255f-0820-43ee-8152-f95e38b1a554"
      },
      "source": [
        "print(a)"
      ],
      "execution_count": 13,
      "outputs": [
        {
          "output_type": "stream",
          "name": "stdout",
          "text": [
            "Plató va dir 'Les idees son reals\n"
          ]
        }
      ]
    },
    {
      "cell_type": "markdown",
      "metadata": {
        "id": "NQ_ku0CM7u9a"
      },
      "source": [
        "**Funciones de ejecución** \n",
        "- exec()"
      ]
    },
    {
      "cell_type": "code",
      "metadata": {
        "id": "8q61U2mt6CzL"
      },
      "source": [
        "#Para ejecutar una cadena de caracteres como interpretable.\n",
        "s = \"print('Hola')\""
      ],
      "execution_count": 16,
      "outputs": []
    },
    {
      "cell_type": "code",
      "metadata": {
        "colab": {
          "base_uri": "https://localhost:8080/"
        },
        "id": "XqOXvIlK6C6i",
        "outputId": "60b1c342-bf17-4d52-b9dd-639efad933a0"
      },
      "source": [
        "#exec ejecuta la cadena de caracters como cógido python\n",
        "exec(s)"
      ],
      "execution_count": 17,
      "outputs": [
        {
          "output_type": "stream",
          "name": "stdout",
          "text": [
            "Hola\n"
          ]
        }
      ]
    },
    {
      "cell_type": "markdown",
      "metadata": {
        "id": "1dA9ME2f7fRr"
      },
      "source": [
        "**Funciones de evaluacion**\n",
        "\n",
        "- eval()"
      ]
    },
    {
      "cell_type": "code",
      "metadata": {
        "id": "y7TzQQPo6vj7"
      },
      "source": [
        "#evalua expresion 'eval'\n",
        "a = 3\n",
        "b = 5"
      ],
      "execution_count": 18,
      "outputs": []
    },
    {
      "cell_type": "code",
      "metadata": {
        "id": "faHvVqqe7PJy"
      },
      "source": [
        "v = eval(\"a + b\")"
      ],
      "execution_count": 19,
      "outputs": []
    },
    {
      "cell_type": "code",
      "metadata": {
        "colab": {
          "base_uri": "https://localhost:8080/"
        },
        "id": "ONJ5jrbK7Upj",
        "outputId": "2f3d1063-a0c0-49a7-943e-0e333e050e95"
      },
      "source": [
        "print(v)"
      ],
      "execution_count": 20,
      "outputs": [
        {
          "output_type": "stream",
          "name": "stdout",
          "text": [
            "8\n"
          ]
        }
      ]
    },
    {
      "cell_type": "markdown",
      "metadata": {
        "id": "Ci6hHfup8cBK"
      },
      "source": [
        "**Para buscar**\n",
        "\n",
        "Buscar como acceder al sistema desde la biblioteca sys o os"
      ]
    },
    {
      "cell_type": "markdown",
      "metadata": {
        "id": "FWv8HCdt99YB"
      },
      "source": [
        "**Funciones recursivas**\n",
        "\n",
        "https://entrenamiento-python-basico.readthedocs.io/es/latest/leccion5/funciones_recursivas.html\n",
        "\n",
        "**LLamadas recursivas**\n",
        "\n",
        "https://uniwebsidad.com/libros/python/capitulo-4/llamadas-recursivas"
      ]
    },
    {
      "cell_type": "code",
      "metadata": {
        "id": "m6F1iYCM7eal"
      },
      "source": [
        "#sys(sistema), os (sirve para comunicarse con el sistema operativo)"
      ],
      "execution_count": null,
      "outputs": []
    },
    {
      "cell_type": "code",
      "metadata": {
        "colab": {
          "base_uri": "https://localhost:8080/"
        },
        "id": "yo4mwhqL8bXy",
        "outputId": "92b98f57-db44-4538-d561-0df7e722ff78"
      },
      "source": [
        "import sys \n",
        "sys.getrecursionlimit()"
      ],
      "execution_count": 21,
      "outputs": [
        {
          "output_type": "execute_result",
          "data": {
            "text/plain": [
              "1000"
            ]
          },
          "metadata": {},
          "execution_count": 21
        }
      ]
    },
    {
      "cell_type": "markdown",
      "metadata": {
        "id": "_5cKfrh_8-86"
      },
      "source": [
        "Se puede hacer mil llamadas recursivas sin que python se queje."
      ]
    },
    {
      "cell_type": "code",
      "metadata": {
        "id": "jyGlOcyc9cDE"
      },
      "source": [
        "sys.setrecursionlimit(10000)"
      ],
      "execution_count": 22,
      "outputs": []
    },
    {
      "cell_type": "code",
      "metadata": {
        "colab": {
          "base_uri": "https://localhost:8080/"
        },
        "id": "BdzN7EOy9g-B",
        "outputId": "1c685a91-df2b-4b03-ff68-ee1322f65a8d"
      },
      "source": [
        "sys.getrecursionlimit()"
      ],
      "execution_count": 23,
      "outputs": [
        {
          "output_type": "execute_result",
          "data": {
            "text/plain": [
              "10000"
            ]
          },
          "metadata": {},
          "execution_count": 23
        }
      ]
    },
    {
      "cell_type": "markdown",
      "metadata": {
        "id": "e0fjWN1I-PbR"
      },
      "source": [
        "#**Métodos de importanción**\n",
        "\n",
        "La utilización de * es utilizado para sustituir cualquier caracter."
      ]
    },
    {
      "cell_type": "code",
      "metadata": {
        "id": "Q8dXYJ1H--Sa"
      },
      "source": [
        "from math import *"
      ],
      "execution_count": 24,
      "outputs": []
    },
    {
      "cell_type": "code",
      "metadata": {
        "colab": {
          "base_uri": "https://localhost:8080/"
        },
        "id": "hw0gABSI_BLh",
        "outputId": "84e11f1d-46be-4713-a9ab-b98295f42c5b"
      },
      "source": [
        "sin(180)"
      ],
      "execution_count": 25,
      "outputs": [
        {
          "output_type": "execute_result",
          "data": {
            "text/plain": [
              "-0.8011526357338304"
            ]
          },
          "metadata": {},
          "execution_count": 25
        }
      ]
    },
    {
      "cell_type": "code",
      "metadata": {
        "colab": {
          "base_uri": "https://localhost:8080/"
        },
        "id": "k_DoUbiD_GWP",
        "outputId": "a33ee37e-f958-4353-b542-3da0cc036fd9"
      },
      "source": [
        "sin(pi/2)"
      ],
      "execution_count": 27,
      "outputs": [
        {
          "output_type": "execute_result",
          "data": {
            "text/plain": [
              "1.0"
            ]
          },
          "metadata": {},
          "execution_count": 27
        }
      ]
    },
    {
      "cell_type": "code",
      "metadata": {
        "id": "c6sEB59i_U7v"
      },
      "source": [
        "from math import sin\n",
        "from joan import sin"
      ],
      "execution_count": null,
      "outputs": []
    },
    {
      "cell_type": "markdown",
      "metadata": {
        "id": "J0Js4-rZ_cvX"
      },
      "source": [
        "En el caso anterior la última importación sería la que valdría, en una situación de varias importaciones."
      ]
    },
    {
      "cell_type": "code",
      "metadata": {
        "colab": {
          "base_uri": "https://localhost:8080/"
        },
        "id": "5_vrsDMa_sZ6",
        "outputId": "be8a576c-4084-46ca-da29-897419bd1287"
      },
      "source": [
        "import math\n",
        "dir(math)"
      ],
      "execution_count": 28,
      "outputs": [
        {
          "output_type": "execute_result",
          "data": {
            "text/plain": [
              "['__doc__',\n",
              " '__loader__',\n",
              " '__name__',\n",
              " '__package__',\n",
              " '__spec__',\n",
              " 'acos',\n",
              " 'acosh',\n",
              " 'asin',\n",
              " 'asinh',\n",
              " 'atan',\n",
              " 'atan2',\n",
              " 'atanh',\n",
              " 'ceil',\n",
              " 'copysign',\n",
              " 'cos',\n",
              " 'cosh',\n",
              " 'degrees',\n",
              " 'e',\n",
              " 'erf',\n",
              " 'erfc',\n",
              " 'exp',\n",
              " 'expm1',\n",
              " 'fabs',\n",
              " 'factorial',\n",
              " 'floor',\n",
              " 'fmod',\n",
              " 'frexp',\n",
              " 'fsum',\n",
              " 'gamma',\n",
              " 'gcd',\n",
              " 'hypot',\n",
              " 'inf',\n",
              " 'isclose',\n",
              " 'isfinite',\n",
              " 'isinf',\n",
              " 'isnan',\n",
              " 'ldexp',\n",
              " 'lgamma',\n",
              " 'log',\n",
              " 'log10',\n",
              " 'log1p',\n",
              " 'log2',\n",
              " 'modf',\n",
              " 'nan',\n",
              " 'pi',\n",
              " 'pow',\n",
              " 'radians',\n",
              " 'remainder',\n",
              " 'sin',\n",
              " 'sinh',\n",
              " 'sqrt',\n",
              " 'tan',\n",
              " 'tanh',\n",
              " 'tau',\n",
              " 'trunc']"
            ]
          },
          "metadata": {},
          "execution_count": 28
        }
      ]
    },
    {
      "cell_type": "markdown",
      "metadata": {
        "id": "asD2vd2e_qXA"
      },
      "source": [
        "Para acceder a las funciones de una biblioteca con la instrucción dir(<nombre de la bibliotecas>). En este caso math es una biblioteca integrada en código base python\n"
      ]
    },
    {
      "cell_type": "markdown",
      "metadata": {
        "id": "VmRqFi3KAm7H"
      },
      "source": [
        "Para la importación de funciones se utiliza el from -- import -- (con , si son más de una)"
      ]
    },
    {
      "cell_type": "code",
      "metadata": {
        "id": "xXqed3bsAgYw"
      },
      "source": [
        "from math import sin, cos, tan, tanh"
      ],
      "execution_count": 29,
      "outputs": []
    },
    {
      "cell_type": "code",
      "metadata": {
        "colab": {
          "base_uri": "https://localhost:8080/"
        },
        "id": "4q8U3Oi3A3XE",
        "outputId": "306b4935-f1ef-431d-b1da-d063879f4853"
      },
      "source": [
        "dir(FragmentDeText)"
      ],
      "execution_count": 30,
      "outputs": [
        {
          "output_type": "execute_result",
          "data": {
            "text/plain": [
              "['__class__',\n",
              " '__delattr__',\n",
              " '__dict__',\n",
              " '__dir__',\n",
              " '__doc__',\n",
              " '__eq__',\n",
              " '__format__',\n",
              " '__ge__',\n",
              " '__getattribute__',\n",
              " '__gt__',\n",
              " '__hash__',\n",
              " '__init__',\n",
              " '__init_subclass__',\n",
              " '__le__',\n",
              " '__lt__',\n",
              " '__module__',\n",
              " '__ne__',\n",
              " '__new__',\n",
              " '__reduce__',\n",
              " '__reduce_ex__',\n",
              " '__repr__',\n",
              " '__setattr__',\n",
              " '__sizeof__',\n",
              " '__str__',\n",
              " '__subclasshook__',\n",
              " '__weakref__',\n",
              " 'comptaEspais']"
            ]
          },
          "metadata": {},
          "execution_count": 30
        }
      ]
    },
    {
      "cell_type": "markdown",
      "metadata": {
        "id": "UwiEklqmA6Co"
      },
      "source": [
        "Si queremos ver todas las funciones que hay dentro de de tu clase también se usa dir(), parte las clases las definice por defecto "
      ]
    },
    {
      "cell_type": "code",
      "metadata": {
        "colab": {
          "base_uri": "https://localhost:8080/"
        },
        "id": "6teDJRElBMdX",
        "outputId": "97af8d4a-e4ad-4c15-a681-b44efa6a2897"
      },
      "source": [
        "dir(Paraula)"
      ],
      "execution_count": 31,
      "outputs": [
        {
          "output_type": "execute_result",
          "data": {
            "text/plain": [
              "['__class__',\n",
              " '__delattr__',\n",
              " '__dict__',\n",
              " '__dir__',\n",
              " '__doc__',\n",
              " '__eq__',\n",
              " '__format__',\n",
              " '__ge__',\n",
              " '__getattribute__',\n",
              " '__gt__',\n",
              " '__hash__',\n",
              " '__init__',\n",
              " '__init_subclass__',\n",
              " '__le__',\n",
              " '__lt__',\n",
              " '__module__',\n",
              " '__ne__',\n",
              " '__new__',\n",
              " '__reduce__',\n",
              " '__reduce_ex__',\n",
              " '__repr__',\n",
              " '__setattr__',\n",
              " '__sizeof__',\n",
              " '__str__',\n",
              " '__subclasshook__',\n",
              " '__weakref__',\n",
              " 'comptaEspais',\n",
              " 'inicial']"
            ]
          },
          "metadata": {},
          "execution_count": 31
        }
      ]
    },
    {
      "cell_type": "markdown",
      "metadata": {
        "id": "XA49u1LRBd1C"
      },
      "source": [
        "#**List comprehension**\n",
        "\n",
        "Las listas compresivas consiste en poder en gestionar las listas con la definición de reglas que las gestionen"
      ]
    },
    {
      "cell_type": "code",
      "metadata": {
        "id": "rZ-S5cj-B1wx"
      },
      "source": [
        "ll = [x for x in range(1, 101) if x % 2 == 0]"
      ],
      "execution_count": 32,
      "outputs": []
    },
    {
      "cell_type": "code",
      "metadata": {
        "colab": {
          "base_uri": "https://localhost:8080/"
        },
        "id": "aoq-ApeHCOzf",
        "outputId": "bfab1d64-d3f6-4a39-aed3-291672a2d316"
      },
      "source": [
        "ll"
      ],
      "execution_count": 33,
      "outputs": [
        {
          "output_type": "execute_result",
          "data": {
            "text/plain": [
              "[2,\n",
              " 4,\n",
              " 6,\n",
              " 8,\n",
              " 10,\n",
              " 12,\n",
              " 14,\n",
              " 16,\n",
              " 18,\n",
              " 20,\n",
              " 22,\n",
              " 24,\n",
              " 26,\n",
              " 28,\n",
              " 30,\n",
              " 32,\n",
              " 34,\n",
              " 36,\n",
              " 38,\n",
              " 40,\n",
              " 42,\n",
              " 44,\n",
              " 46,\n",
              " 48,\n",
              " 50,\n",
              " 52,\n",
              " 54,\n",
              " 56,\n",
              " 58,\n",
              " 60,\n",
              " 62,\n",
              " 64,\n",
              " 66,\n",
              " 68,\n",
              " 70,\n",
              " 72,\n",
              " 74,\n",
              " 76,\n",
              " 78,\n",
              " 80,\n",
              " 82,\n",
              " 84,\n",
              " 86,\n",
              " 88,\n",
              " 90,\n",
              " 92,\n",
              " 94,\n",
              " 96,\n",
              " 98,\n",
              " 100]"
            ]
          },
          "metadata": {},
          "execution_count": 33
        }
      ]
    },
    {
      "cell_type": "code",
      "metadata": {
        "id": "whKGNuFoCi4Q"
      },
      "source": [
        "ll = [x for x in range(1, 1000001) if x % 5 == 0]"
      ],
      "execution_count": 34,
      "outputs": []
    },
    {
      "cell_type": "code",
      "metadata": {
        "colab": {
          "base_uri": "https://localhost:8080/"
        },
        "id": "ZU98qc4bCtHg",
        "outputId": "604570a3-45c8-4d7e-c045-37888da5abff"
      },
      "source": [
        "print(len(ll))"
      ],
      "execution_count": 35,
      "outputs": [
        {
          "output_type": "stream",
          "name": "stdout",
          "text": [
            "200000\n"
          ]
        }
      ]
    },
    {
      "cell_type": "code",
      "metadata": {
        "colab": {
          "base_uri": "https://localhost:8080/"
        },
        "id": "hsofFQQaC6wO",
        "outputId": "e77dfda0-3342-4362-8057-dede347f5a2b"
      },
      "source": [
        "print(ll[:20])"
      ],
      "execution_count": 36,
      "outputs": [
        {
          "output_type": "stream",
          "name": "stdout",
          "text": [
            "[5, 10, 15, 20, 25, 30, 35, 40, 45, 50, 55, 60, 65, 70, 75, 80, 85, 90, 95, 100]\n"
          ]
        }
      ]
    },
    {
      "cell_type": "markdown",
      "metadata": {
        "id": "yw1ikS97DE1W"
      },
      "source": [
        "Para ver los ultimos vente de la lista anteriormente creadoa"
      ]
    },
    {
      "cell_type": "markdown",
      "metadata": {
        "id": "M7aXPPp2DXQ_"
      },
      "source": [
        "Para modificar una línea anterior"
      ]
    },
    {
      "cell_type": "code",
      "metadata": {
        "id": "S5JOzpU4DKGh"
      },
      "source": [
        "ll2 = [x for x in ll if x <= 10000]"
      ],
      "execution_count": 37,
      "outputs": []
    },
    {
      "cell_type": "code",
      "metadata": {
        "colab": {
          "base_uri": "https://localhost:8080/"
        },
        "id": "yRJXogsiDQ5w",
        "outputId": "860fa206-36b8-4afe-a023-30474eb8c0c4"
      },
      "source": [
        "print(len(ll2))"
      ],
      "execution_count": 38,
      "outputs": [
        {
          "output_type": "stream",
          "name": "stdout",
          "text": [
            "2000\n"
          ]
        }
      ]
    },
    {
      "cell_type": "markdown",
      "metadata": {
        "id": "vNGfo4G0Er-d"
      },
      "source": [
        "Con la utilización de () se crea un generador con las condiciones que incluyen en los parentesis"
      ]
    },
    {
      "cell_type": "code",
      "metadata": {
        "id": "cFmymQApEa7X"
      },
      "source": [
        "ll = (x for x in range(1, 101) if x % 2 == 0)"
      ],
      "execution_count": 39,
      "outputs": []
    },
    {
      "cell_type": "code",
      "metadata": {
        "colab": {
          "base_uri": "https://localhost:8080/"
        },
        "id": "htjkMCWEE1WG",
        "outputId": "b2477979-5f26-46bb-8667-97da9dfb4cb6"
      },
      "source": [
        "type(ll)"
      ],
      "execution_count": 40,
      "outputs": [
        {
          "output_type": "execute_result",
          "data": {
            "text/plain": [
              "generator"
            ]
          },
          "metadata": {},
          "execution_count": 40
        }
      ]
    },
    {
      "cell_type": "markdown",
      "metadata": {
        "id": "_Wniff0CFQX-"
      },
      "source": [
        "Para imprimir los elementos de un generador se utiliza el método next()"
      ]
    },
    {
      "cell_type": "code",
      "metadata": {
        "colab": {
          "base_uri": "https://localhost:8080/"
        },
        "id": "pMCFYMofFMRg",
        "outputId": "428c6941-fc82-48cb-c6f9-99b2d5417867"
      },
      "source": [
        "print(next(ll))"
      ],
      "execution_count": 41,
      "outputs": [
        {
          "output_type": "stream",
          "name": "stdout",
          "text": [
            "2\n"
          ]
        }
      ]
    },
    {
      "cell_type": "code",
      "metadata": {
        "colab": {
          "base_uri": "https://localhost:8080/"
        },
        "id": "lU95WdEVFhkp",
        "outputId": "420f4106-56fa-4785-ad21-c1bcfa796ec2"
      },
      "source": [
        "next(ll)"
      ],
      "execution_count": 44,
      "outputs": [
        {
          "output_type": "execute_result",
          "data": {
            "text/plain": [
              "4"
            ]
          },
          "metadata": {},
          "execution_count": 44
        }
      ]
    },
    {
      "cell_type": "code",
      "metadata": {
        "id": "xL1z6fw9F5eZ"
      },
      "source": [
        "ll = (x for x in range(1, 101) if x % 2 == 0)"
      ],
      "execution_count": 47,
      "outputs": []
    },
    {
      "cell_type": "code",
      "metadata": {
        "id": "iHihDoNyFue2"
      },
      "source": [
        "g = (x for x in ll)"
      ],
      "execution_count": 48,
      "outputs": []
    },
    {
      "cell_type": "code",
      "metadata": {
        "colab": {
          "base_uri": "https://localhost:8080/"
        },
        "id": "76lwJECfGEf2",
        "outputId": "570c1947-3b19-41ac-8271-7038eef9a8fd"
      },
      "source": [
        "type(ll)"
      ],
      "execution_count": 50,
      "outputs": [
        {
          "output_type": "execute_result",
          "data": {
            "text/plain": [
              "generator"
            ]
          },
          "metadata": {},
          "execution_count": 50
        }
      ]
    },
    {
      "cell_type": "code",
      "metadata": {
        "colab": {
          "base_uri": "https://localhost:8080/"
        },
        "id": "E1frLxn5GIgY",
        "outputId": "12998377-03cb-4152-99c7-aad4904d6efe"
      },
      "source": [
        "type(g)"
      ],
      "execution_count": 51,
      "outputs": [
        {
          "output_type": "execute_result",
          "data": {
            "text/plain": [
              "generator"
            ]
          },
          "metadata": {},
          "execution_count": 51
        }
      ]
    },
    {
      "cell_type": "code",
      "metadata": {
        "colab": {
          "base_uri": "https://localhost:8080/"
        },
        "id": "GHu8HvADF0w_",
        "outputId": "779b90ed-8097-48c9-820a-2dcac8e85bf9"
      },
      "source": [
        "next(g)"
      ],
      "execution_count": 49,
      "outputs": [
        {
          "output_type": "execute_result",
          "data": {
            "text/plain": [
              "2"
            ]
          },
          "metadata": {},
          "execution_count": 49
        }
      ]
    },
    {
      "cell_type": "markdown",
      "metadata": {
        "id": "fvz35idKGdfw"
      },
      "source": [
        "#**Generator delegation** (para buscar)\n",
        "yield from (para buscar)\n",
        "\n",
        "En stackoverflow un programador importante es \"Alex Martelli\"\n"
      ]
    },
    {
      "cell_type": "markdown",
      "metadata": {
        "id": "3RNRdGb3RdR0"
      },
      "source": [
        "#**Funciones lambda**\n",
        "\n",
        "https://docs.hektorprofe.net/python/funcionalidades-avanzadas/funciones-lambda/\n",
        "\n",
        "Para realizar todas las funciones en una línea, aunque no siempre es lo mas conveniente."
      ]
    },
    {
      "cell_type": "code",
      "metadata": {
        "colab": {
          "base_uri": "https://localhost:8080/"
        },
        "id": "4H9wH-irQ76P",
        "outputId": "bd879e0a-ca37-4f9d-b082-a4bfddd77b26"
      },
      "source": [
        "(lambda x: x*x)(3)"
      ],
      "execution_count": 53,
      "outputs": [
        {
          "output_type": "execute_result",
          "data": {
            "text/plain": [
              "9"
            ]
          },
          "metadata": {},
          "execution_count": 53
        }
      ]
    },
    {
      "cell_type": "code",
      "metadata": {
        "id": "kcYZjSodRc2q"
      },
      "source": [
        "f = lambda x: x**3"
      ],
      "execution_count": 54,
      "outputs": []
    },
    {
      "cell_type": "code",
      "metadata": {
        "colab": {
          "base_uri": "https://localhost:8080/"
        },
        "id": "4Qv32hFJR_0K",
        "outputId": "e6bc4246-58f5-4306-a661-23bf7fdec390"
      },
      "source": [
        "type(f)"
      ],
      "execution_count": 55,
      "outputs": [
        {
          "output_type": "execute_result",
          "data": {
            "text/plain": [
              "function"
            ]
          },
          "metadata": {},
          "execution_count": 55
        }
      ]
    },
    {
      "cell_type": "code",
      "metadata": {
        "colab": {
          "base_uri": "https://localhost:8080/"
        },
        "id": "XfDvWHqLSCe1",
        "outputId": "0d99ee5c-f180-429e-c25e-e195d805af05"
      },
      "source": [
        "f(2)"
      ],
      "execution_count": 56,
      "outputs": [
        {
          "output_type": "execute_result",
          "data": {
            "text/plain": [
              "8"
            ]
          },
          "metadata": {},
          "execution_count": 56
        }
      ]
    },
    {
      "cell_type": "code",
      "metadata": {
        "id": "_2YjCRzcSO9M"
      },
      "source": [
        "g = lambda x, y: x**2 + y**2"
      ],
      "execution_count": 57,
      "outputs": []
    },
    {
      "cell_type": "code",
      "metadata": {
        "colab": {
          "base_uri": "https://localhost:8080/"
        },
        "id": "Ph6rLedlSozp",
        "outputId": "6b9e4ff8-1d99-4cbd-803a-305d27c0c6e0"
      },
      "source": [
        "g(3,4)"
      ],
      "execution_count": 58,
      "outputs": [
        {
          "output_type": "execute_result",
          "data": {
            "text/plain": [
              "25"
            ]
          },
          "metadata": {},
          "execution_count": 58
        }
      ]
    },
    {
      "cell_type": "code",
      "metadata": {
        "id": "4FpgJ7bSSsMh"
      },
      "source": [
        "z = (lambda x, y: x**2 + y**2)(3, 4)"
      ],
      "execution_count": 59,
      "outputs": []
    },
    {
      "cell_type": "code",
      "metadata": {
        "colab": {
          "base_uri": "https://localhost:8080/"
        },
        "id": "ySCfmWOfS7Qp",
        "outputId": "bf0463e3-18f2-4a27-f4ce-a5ca582c5233"
      },
      "source": [
        "z"
      ],
      "execution_count": 60,
      "outputs": [
        {
          "output_type": "execute_result",
          "data": {
            "text/plain": [
              "25"
            ]
          },
          "metadata": {},
          "execution_count": 60
        }
      ]
    },
    {
      "cell_type": "markdown",
      "metadata": {
        "id": "cBFX8AVFThaK"
      },
      "source": [
        "#**IDLE**\n",
        "https://es.wikipedia.org/wiki/IDLE\n"
      ]
    },
    {
      "cell_type": "markdown",
      "metadata": {
        "id": "0Oqmh-WeUveh"
      },
      "source": [
        "#**Machine learning**\n",
        "**Aprendizaje no supervisado**\n",
        "\n",
        "-Clustering\n",
        "\n",
        "Hace los grupos en funcion de la similaridad de los números\n",
        "\n",
        "\n",
        "1.   K-means\n",
        "En primer lugar se especifica cuantos grupos queremos el K.\n",
        "\n",
        "Lo primero qu ehace una asignación aleatoria de las categorias. \n",
        "\n",
        "Inercia = Variación dentro de cada grupo.\n",
        "\n",
        "El algoritmo mide estas inercias en cada uno de las categorias, intentando minimizar las inercias de todos los grupos.\n",
        "\n",
        "Para la optimización del método se puede utilizar el método Elbow\n",
        "\n",
        "https://predictivehacks.com/k-means-elbow-method-code-for-python/\n",
        "\n",
        "2.   Hierarchical clustering (agrupamiento jeranquico)\n",
        "\n",
        "No necesita decirle el número de grupos iniciales. Crea una estructura de hoja.\n",
        "\n",
        "https://en.wikipedia.org/wiki/Hierarchical_clustering\n",
        "\n",
        "3.    DBSCAN (density-based spatial clustering of applications with noise)\n",
        "\n",
        "https://es.wikipedia.org/wiki/DBSCAN\n",
        "\n",
        "En este caso se basa en la densidad de los grupos que presentan los datos. No considera el ruido (NA).Los grupos se crean por la medida de un grupo y la distancia entre los punto.\n",
        "Hay una versión jerárquica (HDBSCAN)\n",
        "\n",
        "4.     Autoencoders\n",
        "\n",
        "Son una red neuronal multicapa de tipo feed forwar, que aprenden de manera no supervisada.\n",
        "También aplica el algoritmo de retropropagación.\n",
        "\n",
        "En el aprendizaje supervisado las redes neuroneles tendrán que ser piramidales, con capas grandes al principio y pequeñas al final.\n",
        "\n",
        "En el caso de los autoenconders la capa de salida tiene en mismo tamaño que la capa e entrada.\n",
        "\n",
        "\n",
        "\n",
        "\n",
        "\n"
      ]
    }
  ]
}