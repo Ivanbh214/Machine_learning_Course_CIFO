{
  "nbformat": 4,
  "nbformat_minor": 0,
  "metadata": {
    "colab": {
      "name": "Untitled9.ipynb",
      "provenance": [],
      "authorship_tag": "ABX9TyOrXjpa+QH4rnXjjsj+KCEo",
      "include_colab_link": true
    },
    "kernelspec": {
      "name": "python3",
      "display_name": "Python 3"
    },
    "language_info": {
      "name": "python"
    }
  },
  "cells": [
    {
      "cell_type": "markdown",
      "metadata": {
        "id": "view-in-github",
        "colab_type": "text"
      },
      "source": [
        "<a href=\"https://colab.research.google.com/github/Ivanbh214/Machine_learning_Course_CIFO/blob/main/clase_3/clase_3/29-10-21.ipynb\" target=\"_parent\"><img src=\"https://colab.research.google.com/assets/colab-badge.svg\" alt=\"Open In Colab\"/></a>"
      ]
    },
    {
      "cell_type": "markdown",
      "metadata": {
        "id": "XsfNZisgEu9l"
      },
      "source": [
        "**Conceptos de redución de la dimensionalidad**\n",
        "\n",
        "**Variables latentes**\n",
        "\n",
        "https://es.wikipedia.org/wiki/Variable_latente\n",
        "\n",
        "Los modelos matemáticos que tratan de explicar las variables observadas en términos de variables latentes se llaman modelos de variables latentes\n",
        "\n",
        "https://towardsdatascience.com/looking-beyond-the-surface-c14b0443a4b0\n",
        "\n",
        "**Singular value Decomposition**\n",
        "\n",
        "**Proyección aleatoria**\n",
        "\n",
        "**Sparse matrices**\n",
        "\n",
        "**Independent component analysis**\n",
        "\n",
        "Correlación y causalidad diferencias (importante porque a veces se confunde)\n",
        "\n",
        "Latent dirichlet allocation para el tema de Natural language processing se utiliza\n",
        "\n",
        "**Python**\n",
        "\n",
        "\n"
      ]
    },
    {
      "cell_type": "code",
      "metadata": {
        "id": "I5ORyVmEEV9P"
      },
      "source": [
        "#Clases\n",
        "class Vector2D:\n",
        "  def __init__(self, a, b):\n",
        "    self.a = a\n",
        "    self.b = b\n",
        "  def suma(self, other):\n",
        "    self.a += other.a\n",
        "    self.b += other.b"
      ],
      "execution_count": 1,
      "outputs": []
    },
    {
      "cell_type": "code",
      "metadata": {
        "colab": {
          "base_uri": "https://localhost:8080/"
        },
        "id": "70qsMP5GEt_X",
        "outputId": "9a8ba001-285e-4ff1-a690-d80321a7d8fc"
      },
      "source": [
        "v = Vector2D(1, 2)\n",
        "print(v.a)\n",
        "print(v.b)"
      ],
      "execution_count": 2,
      "outputs": [
        {
          "output_type": "stream",
          "name": "stdout",
          "text": [
            "1\n",
            "2\n"
          ]
        }
      ]
    },
    {
      "cell_type": "code",
      "metadata": {
        "id": "G7vCMfcHWTSX"
      },
      "source": [
        "u = Vector2D(3, 4)"
      ],
      "execution_count": 3,
      "outputs": []
    },
    {
      "cell_type": "code",
      "metadata": {
        "colab": {
          "base_uri": "https://localhost:8080/"
        },
        "id": "lRGYg5rbWab1",
        "outputId": "5f5e1da7-9a12-418b-89d3-8738b0be7bff"
      },
      "source": [
        "print(u.a, u.b)"
      ],
      "execution_count": 4,
      "outputs": [
        {
          "output_type": "stream",
          "name": "stdout",
          "text": [
            "3 4\n"
          ]
        }
      ]
    },
    {
      "cell_type": "code",
      "metadata": {
        "id": "c1ie2PXqWuyf"
      },
      "source": [
        "w = u.suma(v)"
      ],
      "execution_count": 5,
      "outputs": []
    },
    {
      "cell_type": "code",
      "metadata": {
        "colab": {
          "base_uri": "https://localhost:8080/"
        },
        "id": "kSMATn6kW0lN",
        "outputId": "fac58090-0c72-40a2-de33-25e6eb4eee4e"
      },
      "source": [
        "print(u.a, u.b)"
      ],
      "execution_count": 6,
      "outputs": [
        {
          "output_type": "stream",
          "name": "stdout",
          "text": [
            "4 6\n"
          ]
        }
      ]
    },
    {
      "cell_type": "code",
      "metadata": {
        "colab": {
          "base_uri": "https://localhost:8080/"
        },
        "id": "T0Ock568XQIe",
        "outputId": "7819e8da-3bb3-4b86-8768-0a2ba81b2fb8"
      },
      "source": [
        "#Así te dice que pertenece a un objeto de la clase B\n",
        "print(v)"
      ],
      "execution_count": 7,
      "outputs": [
        {
          "output_type": "stream",
          "name": "stdout",
          "text": [
            "<__main__.Vector2D object at 0x7fcabbc49c90>\n"
          ]
        }
      ]
    },
    {
      "cell_type": "code",
      "metadata": {
        "id": "uP2XiA0PXsQt"
      },
      "source": [
        "#Método magic\n",
        "class Vector2D:\n",
        "  def __init__(self, a, b):\n",
        "    self.a = a\n",
        "    self.b = b\n",
        "  def sum(self, other):\n",
        "    self.a += other.a\n",
        "    self.b += other.b\n",
        "  def longitud(self):\n",
        "    l = (self.a**2 + self.b**2)**.5\n",
        "    return l\n",
        "  def producteEscalar(self, multiplicador):\n",
        "    self.a *= multiplicador\n",
        "    self.b *= multiplicador\n",
        "  def __str__(self):\n",
        "    return \"(\" + str(self.a) + \", \" + str(self.b) + \")\"\n",
        "  def __add__(self, other):\n",
        "    return Vector2D(self.a + other.a, self.b + other.b)\n"
      ],
      "execution_count": 8,
      "outputs": []
    },
    {
      "cell_type": "code",
      "metadata": {
        "id": "skWiv9z6aQp_"
      },
      "source": [
        "v = Vector2D(3, 4)"
      ],
      "execution_count": 9,
      "outputs": []
    },
    {
      "cell_type": "code",
      "metadata": {
        "id": "5eVCSYTPaUuV"
      },
      "source": [
        "u = Vector2D(1,2)"
      ],
      "execution_count": 10,
      "outputs": []
    },
    {
      "cell_type": "code",
      "metadata": {
        "id": "QL4gl04GaZiE"
      },
      "source": [
        "w = u + v"
      ],
      "execution_count": 11,
      "outputs": []
    },
    {
      "cell_type": "code",
      "metadata": {
        "colab": {
          "base_uri": "https://localhost:8080/"
        },
        "id": "s4soebE-aeu0",
        "outputId": "71e86720-1a85-46e0-844c-75cf9de2ab41"
      },
      "source": [
        "print(w)"
      ],
      "execution_count": 12,
      "outputs": [
        {
          "output_type": "stream",
          "name": "stdout",
          "text": [
            "(4, 6)\n"
          ]
        }
      ]
    },
    {
      "cell_type": "code",
      "metadata": {
        "colab": {
          "base_uri": "https://localhost:8080/"
        },
        "id": "LDfGvsbiah78",
        "outputId": "fec78b4a-d02f-4cac-df76-f9b8cadd51b0"
      },
      "source": [
        "print(type(w))"
      ],
      "execution_count": 13,
      "outputs": [
        {
          "output_type": "stream",
          "name": "stdout",
          "text": [
            "<class '__main__.Vector2D'>\n"
          ]
        }
      ]
    },
    {
      "cell_type": "code",
      "metadata": {
        "id": "r2tL3vpja6_U"
      },
      "source": [
        "class FragmentDeText:\n",
        "  def __init__(self, textString = None):\n",
        "    if textString == None: self.text = \"Text\"\n",
        "    else: self.text = textString\n",
        "    self.espais = self.comptaEspais()\n",
        "  def comptaEspais(self):\n",
        "    co = 0\n",
        "    for x in self.text:\n",
        "      if x == \" \": co +=1\n",
        "    return co \n",
        "  def __str__(self): return self.text\n",
        "\n",
        "class Paraula(FragmentDeText):\n",
        "  def __init__(self, paraula = None):\n",
        "    FragmentDeText.__init__(self, paraula)\n",
        "    if self.espais > 0:\n",
        "      self.text = \"\"\n",
        "      self.longitud = 0\n",
        "    elif paraula: self.longitud = len(paraula)\n",
        "    else: self.longitud = len(self.text)\n",
        "  def inicial(self):\n",
        "    if self.text == \"\": return \"\"\n",
        "    else: return self.text[0] "
      ],
      "execution_count": 39,
      "outputs": []
    },
    {
      "cell_type": "code",
      "metadata": {
        "id": "Rd2ZdnTQoF-o"
      },
      "source": [
        "t = FragmentDeText(\"Machine Learning vol dir aprenentatge automatitzat\")"
      ],
      "execution_count": 40,
      "outputs": []
    },
    {
      "cell_type": "code",
      "metadata": {
        "id": "0qWoXdeehdR6"
      },
      "source": [
        "#Definir una función donde compruebe si hay duplicados en una lista\n",
        "##Compara la longitud del conjunto con la de una lista\n",
        "def teRepiticions(ll):\n",
        "  s = set(ll)\n",
        "  if len(s) == len(ll): return False\n",
        "  else: return True"
      ],
      "execution_count": 50,
      "outputs": []
    },
    {
      "cell_type": "code",
      "metadata": {
        "id": "GYPPZm1Xpy3X",
        "outputId": "ed653508-997c-4d73-865d-e435599a4ec4",
        "colab": {
          "base_uri": "https://localhost:8080/"
        }
      },
      "source": [
        "print(teRepiticions([1, 2, 3, 4, 5, 5]))"
      ],
      "execution_count": 51,
      "outputs": [
        {
          "output_type": "stream",
          "name": "stdout",
          "text": [
            "True\n"
          ]
        }
      ]
    },
    {
      "cell_type": "markdown",
      "metadata": {
        "id": "7H2rQoM9uhNc"
      },
      "source": [
        "**Profiling**\n",
        "https://docs.python.org/es/3.10/library/profile.html#:~:text=profile%20es%20un%20conjunto%20de,a%20trav%C3%A9s%20del%20m%C3%B3dulo%20pstats%20."
      ]
    },
    {
      "cell_type": "code",
      "metadata": {
        "id": "92qImGSlu8Rk",
        "outputId": "9487c6ba-b839-40b2-e878-f2d4686caace",
        "colab": {
          "base_uri": "https://localhost:8080/"
        }
      },
      "source": [
        "type(3.5) == float"
      ],
      "execution_count": 52,
      "outputs": [
        {
          "output_type": "execute_result",
          "data": {
            "text/plain": [
              "True"
            ]
          },
          "metadata": {},
          "execution_count": 52
        }
      ]
    },
    {
      "cell_type": "code",
      "metadata": {
        "id": "pnjzlXstwD3D",
        "outputId": "bbc6b279-968a-44bc-ed38-52ad76caf922",
        "colab": {
          "base_uri": "https://localhost:8080/"
        }
      },
      "source": [
        "#https://www.w3schools.com/python/ref_func_isinstance.asp\n",
        "isinstance(3.5, float)"
      ],
      "execution_count": 53,
      "outputs": [
        {
          "output_type": "execute_result",
          "data": {
            "text/plain": [
              "True"
            ]
          },
          "metadata": {},
          "execution_count": 53
        }
      ]
    }
  ]
}