{
  "nbformat": 4,
  "nbformat_minor": 0,
  "metadata": {
    "colab": {
      "name": "Untitled9.ipynb",
      "provenance": [],
      "authorship_tag": "ABX9TyPdCcDk88uXXRzAmDjjX/JB",
      "include_colab_link": true
    },
    "kernelspec": {
      "name": "python3",
      "display_name": "Python 3"
    },
    "language_info": {
      "name": "python"
    }
  },
  "cells": [
    {
      "cell_type": "markdown",
      "metadata": {
        "id": "view-in-github",
        "colab_type": "text"
      },
      "source": [
        "<a href=\"https://colab.research.google.com/github/Ivanbh214/Machine_learning_Course_CIFO/blob/main/clase_3/29-10-21.ipynb\" target=\"_parent\"><img src=\"https://colab.research.google.com/assets/colab-badge.svg\" alt=\"Open In Colab\"/></a>"
      ]
    },
    {
      "cell_type": "markdown",
      "metadata": {
        "id": "XsfNZisgEu9l"
      },
      "source": [
        "**Conceptos de redución de la dimensionalidad**\n",
        "\n",
        "**Variables latentes**\n",
        "\n",
        "https://es.wikipedia.org/wiki/Variable_latente\n",
        "\n",
        "Los modelos matemáticos que tratan de explicar las variables observadas en términos de variables latentes se llaman modelos de variables latentes\n",
        "\n",
        "https://towardsdatascience.com/looking-beyond-the-surface-c14b0443a4b0\n",
        "\n",
        "**Singular value Decomposition**\n",
        "\n",
        "**Proyección aleatoria**\n",
        "\n",
        "**Sparse matrices**\n",
        "\n",
        "**Independent component analysis**\n",
        "\n",
        "Correlación y causalidad diferencias (importante porque a veces se confunde)\n",
        "\n",
        "Latent dirichlet allocation para el tema de Natural language processing se utiliza\n",
        "\n",
        "**Python**\n",
        "\n",
        "\n"
      ]
    },
    {
      "cell_type": "code",
      "metadata": {
        "id": "I5ORyVmEEV9P"
      },
      "source": [
        "#Clases\n",
        "class Vector2D:\n",
        "  def __init__(self, a, b):\n",
        "    self.a = a\n",
        "    self.b = b\n",
        "  def suma(self, other):\n",
        "    self.a += other.a\n",
        "    self.b += other.b"
      ],
      "execution_count": 1,
      "outputs": []
    },
    {
      "cell_type": "code",
      "metadata": {
        "colab": {
          "base_uri": "https://localhost:8080/"
        },
        "id": "70qsMP5GEt_X",
        "outputId": "2c9dadfc-ed6c-40d7-db76-20809f9b7905"
      },
      "source": [
        "v = Vector2D(1, 2)\n",
        "print(v.a)\n",
        "print(v.b)"
      ],
      "execution_count": 2,
      "outputs": [
        {
          "output_type": "stream",
          "name": "stdout",
          "text": [
            "1\n",
            "1\n"
          ]
        }
      ]
    },
    {
      "cell_type": "code",
      "metadata": {
        "id": "G7vCMfcHWTSX"
      },
      "source": [
        "u = Vector2D(3, 4)"
      ],
      "execution_count": 5,
      "outputs": []
    },
    {
      "cell_type": "code",
      "metadata": {
        "colab": {
          "base_uri": "https://localhost:8080/"
        },
        "id": "lRGYg5rbWab1",
        "outputId": "aa9a480f-e914-46df-fc81-bd7f6bff770f"
      },
      "source": [
        "print(u.a, u.b)"
      ],
      "execution_count": 6,
      "outputs": [
        {
          "output_type": "stream",
          "name": "stdout",
          "text": [
            "3 4\n"
          ]
        }
      ]
    },
    {
      "cell_type": "code",
      "metadata": {
        "id": "c1ie2PXqWuyf"
      },
      "source": [
        "w = u.suma(v)"
      ],
      "execution_count": 7,
      "outputs": []
    },
    {
      "cell_type": "code",
      "metadata": {
        "colab": {
          "base_uri": "https://localhost:8080/"
        },
        "id": "kSMATn6kW0lN",
        "outputId": "b1c68379-d048-4a15-8c96-a29af82654aa"
      },
      "source": [
        "print(u.a, u.b)"
      ],
      "execution_count": 8,
      "outputs": [
        {
          "output_type": "stream",
          "name": "stdout",
          "text": [
            "4 6\n"
          ]
        }
      ]
    },
    {
      "cell_type": "code",
      "metadata": {
        "colab": {
          "base_uri": "https://localhost:8080/"
        },
        "id": "T0Ock568XQIe",
        "outputId": "1545f35f-08d8-443e-e75f-cdaa1afe29c7"
      },
      "source": [
        "#Así te dice que pertenece a un objeto de la clase B\n",
        "print(v)"
      ],
      "execution_count": 9,
      "outputs": [
        {
          "output_type": "stream",
          "name": "stdout",
          "text": [
            "<__main__.Vector2D object at 0x7f148164e5d0>\n"
          ]
        }
      ]
    },
    {
      "cell_type": "code",
      "metadata": {
        "id": "uP2XiA0PXsQt"
      },
      "source": [
        "#Método magic\n",
        "class Vector2D:\n",
        "  def __init__(self, a, b):\n",
        "    self.a = a\n",
        "    self.b = b\n",
        "  def sum(self, other):\n",
        "    self.a += other.a\n",
        "    self.b += other.b\n",
        "  def longitud(self):\n",
        "    l = (self.a**2 + self.b**2)**.5\n",
        "    return l\n",
        "  def producteEscalar(self, multiplicador):\n",
        "    self.a *= multiplicador\n",
        "    self.b *= multiplicador\n",
        "  def __str__(self):\n",
        "    return \"(\" + str(self.a) + \", \" + str(self.b) + \")\"\n",
        "  def __add__(self, other):\n",
        "    return Vector2D(self.a + other.a, self.b + other.b)\n"
      ],
      "execution_count": 10,
      "outputs": []
    },
    {
      "cell_type": "code",
      "metadata": {
        "id": "skWiv9z6aQp_"
      },
      "source": [
        "v = Vector2D(3, 4)"
      ],
      "execution_count": 11,
      "outputs": []
    },
    {
      "cell_type": "code",
      "metadata": {
        "id": "5eVCSYTPaUuV"
      },
      "source": [
        "u = Vector2D(1,2)"
      ],
      "execution_count": 12,
      "outputs": []
    },
    {
      "cell_type": "code",
      "metadata": {
        "id": "QL4gl04GaZiE"
      },
      "source": [
        "w = u + v"
      ],
      "execution_count": 13,
      "outputs": []
    },
    {
      "cell_type": "code",
      "metadata": {
        "colab": {
          "base_uri": "https://localhost:8080/"
        },
        "id": "s4soebE-aeu0",
        "outputId": "6015f936-2a90-4de4-e671-ae045d63b85d"
      },
      "source": [
        "print(w)"
      ],
      "execution_count": 14,
      "outputs": [
        {
          "output_type": "stream",
          "name": "stdout",
          "text": [
            "(4, 6)\n"
          ]
        }
      ]
    },
    {
      "cell_type": "code",
      "metadata": {
        "colab": {
          "base_uri": "https://localhost:8080/"
        },
        "id": "LDfGvsbiah78",
        "outputId": "3c353202-4e10-4bba-fca2-ba87e439247d"
      },
      "source": [
        "print(type(w))"
      ],
      "execution_count": 15,
      "outputs": [
        {
          "output_type": "stream",
          "name": "stdout",
          "text": [
            "<class '__main__.Vector2D'>\n"
          ]
        }
      ]
    },
    {
      "cell_type": "code",
      "metadata": {
        "id": "r2tL3vpja6_U"
      },
      "source": [
        "class FragmentDeText:\n",
        "  def __init__(self, textString = None):\n",
        "    if textSring == None: self.text = \"Text\"\n",
        "    else: self.text == textString\n",
        "    self.espais = self.comptaEspais()\n",
        "  def comptaEspais(self):\n",
        "    co = 0\n",
        "    for x in self.text:\n",
        "      if x == \" \": co +=1\n",
        "    return co \n",
        "def __str__(self): return self.textString\n",
        "\n",
        "class Paraula(FragmentDeText):\n",
        "  def __init__(self, Paraula):\n",
        "    FragmentDeText.__init__(self, Paraula)\n",
        "    if self.espais > 0:\n",
        "      self.text = \"\"\n",
        "      self.longitud = 0\n",
        "    elif paraula: self.longitud = len(Paraula)\n",
        "    else: self.longitud = len(self.text)\n",
        "  def inicial(self):\n",
        "    if self.text == \"\": return \"\"\n",
        "    else: return self.text[0] "
      ],
      "execution_count": 30,
      "outputs": []
    },
    {
      "cell_type": "code",
      "metadata": {
        "colab": {
          "base_uri": "https://localhost:8080/",
          "height": 162
        },
        "id": "0qWoXdeehdR6",
        "outputId": "d269d7b4-ac5a-4b5e-9fdc-e6e37b4d3b4a"
      },
      "source": [
        ""
      ],
      "execution_count": 31,
      "outputs": [
        {
          "output_type": "error",
          "ename": "NameError",
          "evalue": "ignored",
          "traceback": [
            "\u001b[0;31m---------------------------------------------------------------------------\u001b[0m",
            "\u001b[0;31mNameError\u001b[0m                                 Traceback (most recent call last)",
            "\u001b[0;32m<ipython-input-31-d7b804852273>\u001b[0m in \u001b[0;36m<module>\u001b[0;34m()\u001b[0m\n\u001b[0;32m----> 1\u001b[0;31m \u001b[0mt\u001b[0m \u001b[0;34m=\u001b[0m \u001b[0mFragmentDeTex\u001b[0m\u001b[0;34m(\u001b[0m\u001b[0;34m\"Machine Learnign vol dir aprenetatge automatitzat\"\u001b[0m\u001b[0;34m)\u001b[0m\u001b[0;34m\u001b[0m\u001b[0;34m\u001b[0m\u001b[0m\n\u001b[0m",
            "\u001b[0;31mNameError\u001b[0m: name 'FragmentDeTex' is not defined"
          ]
        }
      ]
    }
  ]
}