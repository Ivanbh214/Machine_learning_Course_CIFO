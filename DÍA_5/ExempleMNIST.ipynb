{
  "nbformat": 4,
  "nbformat_minor": 0,
  "metadata": {
    "colab": {
      "name": "ExempleMNIST.ipynb",
      "provenance": [],
      "collapsed_sections": [],
      "include_colab_link": true
    },
    "kernelspec": {
      "name": "python3",
      "display_name": "Python 3"
    },
    "language_info": {
      "name": "python"
    }
  },
  "cells": [
    {
      "cell_type": "markdown",
      "metadata": {
        "id": "view-in-github",
        "colab_type": "text"
      },
      "source": [
        "<a href=\"https://colab.research.google.com/github/Ivanbh214/Machine_learning_Course_CIFO/blob/main/D%C3%8DA_5/ExempleMNIST.ipynb\" target=\"_parent\"><img src=\"https://colab.research.google.com/assets/colab-badge.svg\" alt=\"Open In Colab\"/></a>"
      ]
    },
    {
      "cell_type": "code",
      "metadata": {
        "id": "BOUyntU4HcqU"
      },
      "source": [
        "import tensorflow as tf\n",
        "from tensorflow import keras\n",
        "import matplotlib.pyplot as plt\n",
        "%matplotlib inline\n",
        "import numpy as np"
      ],
      "execution_count": 21,
      "outputs": []
    },
    {
      "cell_type": "code",
      "metadata": {
        "id": "UCYJqCOZH1bE",
        "colab": {
          "base_uri": "https://localhost:8080/"
        },
        "outputId": "599729a7-8c4b-4b04-a8fa-8c20675bc5b1"
      },
      "source": [
        "(x_train, y_train), (x_test, y_test) = keras.datasets.mnist.load_data()\n",
        "\n",
        "len(x_train)\n",
        "# 60000\n",
        "\n",
        "len(x_test)\n",
        "# 10000\n",
        "\n",
        "# Finding the shape of individual sample\n",
        "x_train[0].shape\n",
        "# (28, 28)"
      ],
      "execution_count": 22,
      "outputs": [
        {
          "output_type": "execute_result",
          "data": {
            "text/plain": [
              "(28, 28)"
            ]
          },
          "metadata": {},
          "execution_count": 22
        }
      ]
    },
    {
      "cell_type": "code",
      "metadata": {
        "id": "ZjM2wBJQIBOq"
      },
      "source": [
        "#x_train[0]"
      ],
      "execution_count": 23,
      "outputs": []
    },
    {
      "cell_type": "code",
      "metadata": {
        "id": "RDNpBc36IK2g",
        "colab": {
          "base_uri": "https://localhost:8080/",
          "height": 292
        },
        "outputId": "f6793460-651d-4b57-8242-5f5d152bf125"
      },
      "source": [
        "plt.matshow(x_train[0])"
      ],
      "execution_count": 24,
      "outputs": [
        {
          "output_type": "execute_result",
          "data": {
            "text/plain": [
              "<matplotlib.image.AxesImage at 0x7f9166c54790>"
            ]
          },
          "metadata": {},
          "execution_count": 24
        },
        {
          "output_type": "display_data",
          "data": {
            "image/png": "[encoded data removed]",
            "text/plain": [
              "<Figure size 288x288 with 1 Axes>"
            ]
          },
          "metadata": {
            "needs_background": "light"
          }
        }
      ]
    },
    {
      "cell_type": "code",
      "metadata": {
        "colab": {
          "base_uri": "https://localhost:8080/"
        },
        "id": "lvk--1OvJg5L",
        "outputId": "9685bc90-1132-4c90-fd4a-3950bc0fcdbb"
      },
      "source": [
        "y_train[0]"
      ],
      "execution_count": 25,
      "outputs": [
        {
          "output_type": "execute_result",
          "data": {
            "text/plain": [
              "5"
            ]
          },
          "metadata": {},
          "execution_count": 25
        }
      ]
    },
    {
      "cell_type": "code",
      "metadata": {
        "id": "rLFhtnAeIR6T",
        "colab": {
          "base_uri": "https://localhost:8080/",
          "height": 292
        },
        "outputId": "973e72e1-9591-4ea6-8e31-9e4dbcf65283"
      },
      "source": [
        "plt.matshow(x_test[0])"
      ],
      "execution_count": 26,
      "outputs": [
        {
          "output_type": "execute_result",
          "data": {
            "text/plain": [
              "<matplotlib.image.AxesImage at 0x7f916b49e9d0>"
            ]
          },
          "metadata": {},
          "execution_count": 26
        },
        {
          "output_type": "display_data",
          "data": {
            "image/png": "[encoded data removed]",
            "text/plain": [
              "<Figure size 288x288 with 1 Axes>"
            ]
          },
          "metadata": {
            "needs_background": "light"
          }
        }
      ]
    },
    {
      "cell_type": "code",
      "metadata": {
        "id": "DINM1eCFIVZ0",
        "colab": {
          "base_uri": "https://localhost:8080/"
        },
        "outputId": "fe27961b-f73b-43dd-f14f-42d35948fa11"
      },
      "source": [
        "y_train[0]\n",
        "\n",
        "# 5"
      ],
      "execution_count": 27,
      "outputs": [
        {
          "output_type": "execute_result",
          "data": {
            "text/plain": [
              "5"
            ]
          },
          "metadata": {},
          "execution_count": 27
        }
      ]
    },
    {
      "cell_type": "code",
      "metadata": {
        "id": "arEOyqhhIe9P",
        "colab": {
          "base_uri": "https://localhost:8080/"
        },
        "outputId": "43272419-04d7-43d8-ac9a-0cea4679e926"
      },
      "source": [
        "y_test[0]\n",
        "\n",
        "# 7"
      ],
      "execution_count": 28,
      "outputs": [
        {
          "output_type": "execute_result",
          "data": {
            "text/plain": [
              "7"
            ]
          },
          "metadata": {},
          "execution_count": 28
        }
      ]
    },
    {
      "cell_type": "code",
      "metadata": {
        "id": "-i1P7fgaIjJJ",
        "colab": {
          "base_uri": "https://localhost:8080/"
        },
        "outputId": "54d65d18-9e28-4b88-b1c1-9fde78490d62"
      },
      "source": [
        "# Show first 5 data\n",
        "y_train[:5]\n",
        "\n",
        "# array([5, 0, 4, 1, 9], dtype=uint8)"
      ],
      "execution_count": 29,
      "outputs": [
        {
          "output_type": "execute_result",
          "data": {
            "text/plain": [
              "array([5, 0, 4, 1, 9], dtype=uint8)"
            ]
          },
          "metadata": {},
          "execution_count": 29
        }
      ]
    },
    {
      "cell_type": "code",
      "metadata": {
        "id": "yV8NrbSVIwTH",
        "colab": {
          "base_uri": "https://localhost:8080/"
        },
        "outputId": "d34ed440-b297-4ee7-a90e-74b09d41c12a"
      },
      "source": [
        "x_train.shape\n",
        "\n",
        "#  (60000, 28, 28)"
      ],
      "execution_count": 30,
      "outputs": [
        {
          "output_type": "execute_result",
          "data": {
            "text/plain": [
              "(60000, 28, 28)"
            ]
          },
          "metadata": {},
          "execution_count": 30
        }
      ]
    },
    {
      "cell_type": "code",
      "metadata": {
        "colab": {
          "base_uri": "https://localhost:8080/"
        },
        "id": "K32s9jkAKheZ",
        "outputId": "ccb2145f-5738-4b83-e808-023d85bce27b"
      },
      "source": [
        "y_train.shape"
      ],
      "execution_count": 31,
      "outputs": [
        {
          "output_type": "execute_result",
          "data": {
            "text/plain": [
              "(60000,)"
            ]
          },
          "metadata": {},
          "execution_count": 31
        }
      ]
    },
    {
      "cell_type": "code",
      "metadata": {
        "id": "_qRCC6fjJAc0"
      },
      "source": [
        "# Scale the data so that the values are from 0 - 1\n",
        "x_train = x_train / 255\n",
        "x_test = x_test / 255"
      ],
      "execution_count": 32,
      "outputs": []
    },
    {
      "cell_type": "code",
      "metadata": {
        "id": "uVtMxjuTJHO9"
      },
      "source": [
        "#x_train[0]"
      ],
      "execution_count": 33,
      "outputs": []
    },
    {
      "cell_type": "code",
      "metadata": {
        "id": "oH3VhlC_JU_X"
      },
      "source": [
        "# Flattening the train and test data\n",
        "x_train_flattened = x_train.reshape(len(x_train), 28 * 28)\n",
        "x_test_flattened = x_test.reshape(len(x_test), 28 * 28)"
      ],
      "execution_count": 34,
      "outputs": []
    },
    {
      "cell_type": "code",
      "metadata": {
        "id": "qc0Nmv6vJggW",
        "colab": {
          "base_uri": "https://localhost:8080/"
        },
        "outputId": "90b0f976-4373-46f6-d313-c69c28671b98"
      },
      "source": [
        "x_train_flattened.shape\n",
        "\n",
        "# (60000, 784)"
      ],
      "execution_count": 35,
      "outputs": [
        {
          "output_type": "execute_result",
          "data": {
            "text/plain": [
              "(60000, 784)"
            ]
          },
          "metadata": {},
          "execution_count": 35
        }
      ]
    },
    {
      "cell_type": "code",
      "metadata": {
        "id": "Qhv62HnZJlL6",
        "colab": {
          "base_uri": "https://localhost:8080/"
        },
        "outputId": "f1edfeb3-fe74-4b94-88f9-d951d902496f"
      },
      "source": [
        "x_test_flattened.shape\n",
        "\n",
        "# (10000, 784)"
      ],
      "execution_count": 36,
      "outputs": [
        {
          "output_type": "execute_result",
          "data": {
            "text/plain": [
              "(10000, 784)"
            ]
          },
          "metadata": {},
          "execution_count": 36
        }
      ]
    },
    {
      "cell_type": "code",
      "metadata": {
        "id": "8qKPqmw8JtzQ"
      },
      "source": [
        "# Sequential create a stack of layers\n",
        "model = keras.Sequential([\n",
        "    keras.layers.Dense(10, input_shape=(784,), activation='sigmoid')\n",
        "])"
      ],
      "execution_count": 37,
      "outputs": []
    },
    {
      "cell_type": "code",
      "metadata": {
        "id": "ARN809JK8rP0"
      },
      "source": [
        "#Para añadir una capa más constriur el percentron multicapa\n",
        "#100 representa el numero de neuronas que tiene la capa, tiene que estar conectadas con la capa anterior\n",
        "#10 es la capa de salida. en este caso no es necesario decir la capa de entrada\n",
        "#2D se usa para redes convulucionales y no hay que aplanar los datos\n",
        "model = keras.Sequential([\n",
        "    keras.layers.Dense(100, input_shape=(784,), activation='sigmoid'),\n",
        "    keras.layers.Dense(10,activation = 'sigmoid')\n",
        "])"
      ],
      "execution_count": 40,
      "outputs": []
    },
    {
      "cell_type": "code",
      "metadata": {
        "id": "7PXxN1qRJ3sO"
      },
      "source": [
        "# Optimizer will help in backproagation to reach better global optima\n",
        "model.compile(\n",
        "    optimizer='adam',\n",
        "    loss='sparse_categorical_crossentropy',\n",
        "    metrics=['accuracy']\n",
        ")"
      ],
      "execution_count": 41,
      "outputs": []
    },
    {
      "cell_type": "code",
      "metadata": {
        "id": "VAa7p4KfJ6un",
        "colab": {
          "base_uri": "https://localhost:8080/"
        },
        "outputId": "3ac43cad-ac7f-4352-d000-0a194c090d95"
      },
      "source": [
        "# Does the training\n",
        "model.fit(x_train_flattened, y_train, epochs=5)"
      ],
      "execution_count": 42,
      "outputs": [
        {
          "output_type": "stream",
          "name": "stdout",
          "text": [
            "Epoch 1/5\n",
            "1875/1875 [==============================] - 3s 2ms/step - loss: 0.4135 - accuracy: 0.8938\n",
            "Epoch 2/5\n",
            "1875/1875 [==============================] - 3s 2ms/step - loss: 0.2008 - accuracy: 0.9437\n",
            "Epoch 3/5\n",
            "1875/1875 [==============================] - 3s 2ms/step - loss: 0.1491 - accuracy: 0.9568\n",
            "Epoch 4/5\n",
            "1875/1875 [==============================] - 3s 2ms/step - loss: 0.1172 - accuracy: 0.9668\n",
            "Epoch 5/5\n",
            "1875/1875 [==============================] - 3s 2ms/step - loss: 0.0948 - accuracy: 0.9735\n"
          ]
        },
        {
          "output_type": "execute_result",
          "data": {
            "text/plain": [
              "<keras.callbacks.History at 0x7f9166b4c5d0>"
            ]
          },
          "metadata": {},
          "execution_count": 42
        }
      ]
    },
    {
      "cell_type": "code",
      "metadata": {
        "id": "d9sxi1LqKI4A",
        "colab": {
          "base_uri": "https://localhost:8080/"
        },
        "outputId": "e91cd63a-b2ce-41bf-e8ad-fa9d9604c333"
      },
      "source": [
        "model.evaluate(x_test_flattened, y_test)"
      ],
      "execution_count": 43,
      "outputs": [
        {
          "output_type": "stream",
          "name": "stdout",
          "text": [
            "313/313 [==============================] - 0s 1ms/step - loss: 0.1025 - accuracy: 0.9696\n"
          ]
        },
        {
          "output_type": "execute_result",
          "data": {
            "text/plain": [
              "[0.10249360650777817, 0.9696000218391418]"
            ]
          },
          "metadata": {},
          "execution_count": 43
        }
      ]
    },
    {
      "cell_type": "code",
      "metadata": {
        "id": "ZZcF_bjxKfAc",
        "colab": {
          "base_uri": "https://localhost:8080/",
          "height": 292
        },
        "outputId": "1e850e44-16a6-4bb8-bbec-9c29da21d76d"
      },
      "source": [
        "# Show the image\n",
        "plt.matshow(x_test[0])"
      ],
      "execution_count": 44,
      "outputs": [
        {
          "output_type": "execute_result",
          "data": {
            "text/plain": [
              "<matplotlib.image.AxesImage at 0x7f9166a2e250>"
            ]
          },
          "metadata": {},
          "execution_count": 44
        },
        {
          "output_type": "display_data",
          "data": {
            "image/png": "[encoded data removed]",
            "text/plain": [
              "<Figure size 288x288 with 1 Axes>"
            ]
          },
          "metadata": {
            "needs_background": "light"
          }
        }
      ]
    },
    {
      "cell_type": "code",
      "metadata": {
        "id": "VEcr5adfKhbH",
        "colab": {
          "base_uri": "https://localhost:8080/"
        },
        "outputId": "7b2b8fa6-2a48-472e-a01a-30f9b50e7f1c"
      },
      "source": [
        "# Make the predictions\n",
        "y_predicted = model.predict(x_test_flattened)\n",
        "y_predicted[0]"
      ],
      "execution_count": 45,
      "outputs": [
        {
          "output_type": "execute_result",
          "data": {
            "text/plain": [
              "array([3.91061604e-02, 1.54720545e-02, 1.61181122e-01, 6.69250131e-01,\n",
              "       5.90533018e-04, 5.54250181e-02, 4.13861153e-06, 9.99724627e-01,\n",
              "       1.92908049e-02, 3.80913079e-01], dtype=float32)"
            ]
          },
          "metadata": {},
          "execution_count": 45
        }
      ]
    },
    {
      "cell_type": "code",
      "metadata": {
        "id": "x303h_MnK7l_",
        "colab": {
          "base_uri": "https://localhost:8080/"
        },
        "outputId": "ce3ab488-b4ba-4da4-e388-fdf185bb8888"
      },
      "source": [
        "# Find the maximum value using numpy\n",
        "np.argmax(y_predicted[0])\n",
        "\n",
        "# 7"
      ],
      "execution_count": 46,
      "outputs": [
        {
          "output_type": "execute_result",
          "data": {
            "text/plain": [
              "7"
            ]
          },
          "metadata": {},
          "execution_count": 46
        }
      ]
    },
    {
      "cell_type": "code",
      "metadata": {
        "id": "QPFOnzPaM-0C",
        "colab": {
          "base_uri": "https://localhost:8080/"
        },
        "outputId": "8a2c1359-7309-4c0f-b479-d16389b84cfd"
      },
      "source": [
        "# converting y_predicted from whole numbers to integers\n",
        "# so that we can use it in confusion matrix\n",
        "# In short we are argmaxing the entire prediction\n",
        "y_predicted_labels = [np.argmax(i) for i in y_predicted]\n",
        "y_predicted_labels[:5]\n",
        "\n",
        "# [7, 2, 1, 0, 4]"
      ],
      "execution_count": 47,
      "outputs": [
        {
          "output_type": "execute_result",
          "data": {
            "text/plain": [
              "[7, 2, 1, 0, 4]"
            ]
          },
          "metadata": {},
          "execution_count": 47
        }
      ]
    },
    {
      "cell_type": "code",
      "metadata": {
        "id": "bnFpFXymNKNr",
        "colab": {
          "base_uri": "https://localhost:8080/",
          "height": 1000
        },
        "outputId": "7cb8fccc-3be5-4fdc-acf5-9f9278f74e41"
      },
      "source": [
        "plt.matshow(x_test[0])\n",
        "plt.matshow(x_test[1])\n",
        "plt.matshow(x_test[2])\n",
        "plt.matshow(x_test[3])\n",
        "plt.matshow(x_test[4])"
      ],
      "execution_count": 48,
      "outputs": [
        {
          "output_type": "execute_result",
          "data": {
            "text/plain": [
              "<matplotlib.image.AxesImage at 0x7f9166852750>"
            ]
          },
          "metadata": {},
          "execution_count": 48
        },
        {
          "output_type": "display_data",
          "data": {
            "image/png": "[encoded data removed]",
            "text/plain": [
              "<Figure size 288x288 with 1 Axes>"
            ]
          },
          "metadata": {
            "needs_background": "light"
          }
        },
        {
          "output_type": "display_data",
          "data": {
            "image/png": "[encoded data removed]",
            "text/plain": [
              "<Figure size 288x288 with 1 Axes>"
            ]
          },
          "metadata": {
            "needs_background": "light"
          }
        },
        {
          "output_type": "display_data",
          "data": {
            "image/png": "[encoded data removed]",
            "text/plain": [
              "<Figure size 288x288 with 1 Axes>"
            ]
          },
          "metadata": {
            "needs_background": "light"
          }
        },
        {
          "output_type": "display_data",
          "data": {
            "image/png": "[encoded data removed]",
            "text/plain": [
              "<Figure size 288x288 with 1 Axes>"
            ]
          },
          "metadata": {
            "needs_background": "light"
          }
        },
        {
          "output_type": "display_data",
          "data": {
            "image/png": "[encoded data removed]",
            "text/plain": [
              "<Figure size 288x288 with 1 Axes>"
            ]
          },
          "metadata": {
            "needs_background": "light"
          }
        }
      ]
    }
  ]
}