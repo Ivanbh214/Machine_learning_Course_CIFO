{
  "nbformat": 4,
  "nbformat_minor": 0,
  "metadata": {
    "colab": {
      "name": "Untitled16.ipynb",
      "provenance": [],
      "authorship_tag": "ABX9TyOdfH7R6LzwQjwds2xECeaR",
      "include_colab_link": true
    },
    "kernelspec": {
      "name": "python3",
      "display_name": "Python 3"
    },
    "language_info": {
      "name": "python"
    }
  },
  "cells": [
    {
      "cell_type": "markdown",
      "metadata": {
        "id": "view-in-github",
        "colab_type": "text"
      },
      "source": [
        "<a href=\"https://colab.research.google.com/github/Ivanbh214/Machine_learning_Course_CIFO/blob/main/D%C3%ADa_18(18-11-21)/Conceptos_matem%C3%A1ticos.ipynb\" target=\"_parent\"><img src=\"https://colab.research.google.com/assets/colab-badge.svg\" alt=\"Open In Colab\"/></a>"
      ]
    },
    {
      "cell_type": "markdown",
      "metadata": {
        "id": "r8_GjsbSNqUn"
      },
      "source": [
        "#**Principal component analysis**\n",
        "https://setosa.io/ev/principal-component-analysis/\n",
        "\n",
        "#Variable latente\n",
        "https://es.wikipedia.org/wiki/Variable_latente\n",
        "\n",
        "Las variable latentes son las variable fundamentales, en el caso de la reconstrucción de caras estas variables latentes serían aquella que son fundamentales para reconstruir una cara.\n",
        "\n",
        "#PCA Tutorial with puthon\n",
        "https://machinelearningmastery.com/calculate-principal-component-analysis-scratch-python/\n",
        "\n",
        "#Independent component analysis\n",
        "https://towardsdatascience.com/independent-component-analysis-ica-in-python-a0ef0db0955e"
      ]
    },
    {
      "cell_type": "code",
      "metadata": {
        "id": "zcdZq2-ZNdqm"
      },
      "source": [
        ""
      ],
      "execution_count": null,
      "outputs": []
    }
  ]
}