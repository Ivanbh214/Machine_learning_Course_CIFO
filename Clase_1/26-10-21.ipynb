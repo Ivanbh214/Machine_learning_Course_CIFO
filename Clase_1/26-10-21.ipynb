{
  "nbformat": 4,
  "nbformat_minor": 0,
  "metadata": {
    "colab": {
      "name": "Untitled8.ipynb",
      "provenance": [],
      "authorship_tag": "ABX9TyPKEnCLmPuAuVadAkTHfPCi",
      "include_colab_link": true
    },
    "kernelspec": {
      "name": "python3",
      "display_name": "Python 3"
    },
    "language_info": {
      "name": "python"
    }
  },
  "cells": [
    {
      "cell_type": "markdown",
      "metadata": {
        "id": "view-in-github",
        "colab_type": "text"
      },
      "source": [
        "<a href=\"https://colab.research.google.com/github/Ivanbh214/Machine_learning_Course_CIFO/blob/main/Clase_1/26-10-21.ipynb\" target=\"_parent\"><img src=\"https://colab.research.google.com/assets/colab-badge.svg\" alt=\"Open In Colab\"/></a>"
      ]
    },
    {
      "cell_type": "markdown",
      "metadata": {
        "id": "BQBlxMncvgkC"
      },
      "source": [
        "26/10/2021 \"Machine Learning Course\""
      ]
    },
    {
      "cell_type": "code",
      "metadata": {
        "id": "GERyhUZwvb5g"
      },
      "source": [
        "Pi= 3.1416"
      ],
      "execution_count": 1,
      "outputs": []
    },
    {
      "cell_type": "code",
      "metadata": {
        "colab": {
          "base_uri": "https://localhost:8080/"
        },
        "id": "2SCfRzMAG_wa",
        "outputId": "2e1693c7-e783-447a-b0c0-775bddf8e108"
      },
      "source": [
        "x=10 \n",
        "x = x + 3\n",
        "print(x)\n"
      ],
      "execution_count": 2,
      "outputs": [
        {
          "output_type": "stream",
          "name": "stdout",
          "text": [
            "13\n"
          ]
        }
      ]
    },
    {
      "cell_type": "code",
      "metadata": {
        "colab": {
          "base_uri": "https://localhost:8080/"
        },
        "id": "UQfKxFHKHQKx",
        "outputId": "7924cecd-75c5-4799-f2b7-c76d0d1b1220"
      },
      "source": [
        "#Suma 3 a la variable \n",
        "x += 3\n",
        "x"
      ],
      "execution_count": 3,
      "outputs": [
        {
          "output_type": "execute_result",
          "data": {
            "text/plain": [
              "16"
            ]
          },
          "metadata": {},
          "execution_count": 3
        }
      ]
    },
    {
      "cell_type": "markdown",
      "metadata": {
        "id": "PFO4QNpRMdpH"
      },
      "source": [
        "**Listas  y sus operaciones**"
      ]
    },
    {
      "cell_type": "code",
      "metadata": {
        "colab": {
          "base_uri": "https://localhost:8080/"
        },
        "id": "oDTYdvLMHs3k",
        "outputId": "30c00d54-b5d4-497f-d67e-c0854931d2b0"
      },
      "source": [
        "#Para segui uniendo elementos al final de la lista\n",
        "ll = [1,2,3,4]\n",
        "\n",
        "ll.append(12)\n",
        "\n",
        "ll"
      ],
      "execution_count": 9,
      "outputs": [
        {
          "output_type": "execute_result",
          "data": {
            "text/plain": [
              "[1, 2, 3, 4, 12]"
            ]
          },
          "metadata": {},
          "execution_count": 9
        }
      ]
    },
    {
      "cell_type": "code",
      "metadata": {
        "colab": {
          "base_uri": "https://localhost:8080/"
        },
        "id": "3flkEUQPIZQo",
        "outputId": "222e528a-8272-469f-9401-c374c09cf209"
      },
      "source": [
        "#Los primeros 5 elementos de la lista \n",
        "ll[:5]"
      ],
      "execution_count": 6,
      "outputs": [
        {
          "output_type": "execute_result",
          "data": {
            "text/plain": [
              "[0, 1, 2, 3, 4]"
            ]
          },
          "metadata": {},
          "execution_count": 6
        }
      ]
    },
    {
      "cell_type": "code",
      "metadata": {
        "id": "-4m4pyo3H6Vv"
      },
      "source": [
        "ll = list(range(100))\n"
      ],
      "execution_count": 11,
      "outputs": []
    },
    {
      "cell_type": "code",
      "metadata": {
        "colab": {
          "base_uri": "https://localhost:8080/"
        },
        "id": "IBhPdR32I9tQ",
        "outputId": "0321c4e3-92ed-4fe7-b3e1-28d792aae468"
      },
      "source": [
        "#Veras los números hasta el final de la lista\n",
        "ll[90:]\n",
        "\n",
        "#Veras las listas de los 10 últimos\n",
        "ll[-10:]"
      ],
      "execution_count": 12,
      "outputs": [
        {
          "output_type": "execute_result",
          "data": {
            "text/plain": [
              "[90, 91, 92, 93, 94, 95, 96, 97, 98, 99]"
            ]
          },
          "metadata": {},
          "execution_count": 12
        }
      ]
    },
    {
      "cell_type": "code",
      "metadata": {
        "colab": {
          "base_uri": "https://localhost:8080/"
        },
        "id": "PaUpCY8iKIs3",
        "outputId": "1538a9e9-71cc-4e84-e8f2-bb5d57af556c"
      },
      "source": [
        "#Añade elementos al final\n",
        "ll = [1,2,3,4]\n",
        "\n",
        "ll.extend([9,10,11])\n",
        "ll"
      ],
      "execution_count": 20,
      "outputs": [
        {
          "output_type": "execute_result",
          "data": {
            "text/plain": [
              "[1, 2, 3, 4, 9, 10, 11]"
            ]
          },
          "metadata": {},
          "execution_count": 20
        }
      ]
    },
    {
      "cell_type": "code",
      "metadata": {
        "colab": {
          "base_uri": "https://localhost:8080/"
        },
        "id": "jq3nzbheLELX",
        "outputId": "20b00cdc-c195-4cb0-9272-070bc93b0eaf"
      },
      "source": [
        "#Ordena las listas\n",
        "sorted(ll)"
      ],
      "execution_count": 27,
      "outputs": [
        {
          "output_type": "execute_result",
          "data": {
            "text/plain": [
              "[1, 2, 3, 4, 9, 10, 11, 12, 12]"
            ]
          },
          "metadata": {},
          "execution_count": 27
        }
      ]
    },
    {
      "cell_type": "code",
      "metadata": {
        "colab": {
          "base_uri": "https://localhost:8080/"
        },
        "id": "xOdx98yAMPVG",
        "outputId": "9bb507d8-f120-4c3c-a0f7-6b6795ffa91a"
      },
      "source": [
        "ll = sorted(ll)+[12]\n",
        "ll"
      ],
      "execution_count": 26,
      "outputs": [
        {
          "output_type": "execute_result",
          "data": {
            "text/plain": [
              "[1, 2, 3, 4, 9, 10, 11, 12, 12]"
            ]
          },
          "metadata": {},
          "execution_count": 26
        }
      ]
    },
    {
      "cell_type": "code",
      "metadata": {
        "id": "VOBDiX1yNxWo"
      },
      "source": [
        "x = [7, 6, 5, 4]\n",
        "x"
      ],
      "execution_count": 28,
      "outputs": []
    },
    {
      "cell_type": "code",
      "metadata": {
        "colab": {
          "base_uri": "https://localhost:8080/"
        },
        "id": "b2JiL-0JN-xO",
        "outputId": "c186c286-6a43-4862-83fe-43620b56397e"
      },
      "source": [
        "#Para ordenar listas\n",
        "x.sort()\n",
        "print(x)"
      ],
      "execution_count": 29,
      "outputs": [
        {
          "output_type": "stream",
          "name": "stdout",
          "text": [
            "[4, 5, 6, 7]\n"
          ]
        }
      ]
    },
    {
      "cell_type": "code",
      "metadata": {
        "colab": {
          "base_uri": "https://localhost:8080/"
        },
        "id": "R5_Wg5VrOmlW",
        "outputId": "b23ef404-4f93-4874-d7ae-b13393eac197"
      },
      "source": [
        "ll[8:3:-1]"
      ],
      "execution_count": 30,
      "outputs": [
        {
          "output_type": "execute_result",
          "data": {
            "text/plain": [
              "[12, 12, 11, 10, 9]"
            ]
          },
          "metadata": {},
          "execution_count": 30
        }
      ]
    },
    {
      "cell_type": "code",
      "metadata": {
        "colab": {
          "base_uri": "https://localhost:8080/"
        },
        "id": "5f4vgqItOy0U",
        "outputId": "a1c75fa1-c9e1-48be-a447-d86ba53bb4b3"
      },
      "source": [
        "#Para ver el contenido completo de una lista\n",
        "ll[:]\n",
        "#En este caso la copia también no se modifica si se modifica el original\n",
        "y = ll[:]\n",
        "\n",
        "ll.append(232)\n",
        "\n",
        "print (y)"
      ],
      "execution_count": 38,
      "outputs": [
        {
          "output_type": "stream",
          "name": "stdout",
          "text": [
            "[1, 2, 3, 4, 9, 10, 11, 12, 12, 20, 20]\n"
          ]
        }
      ]
    },
    {
      "cell_type": "code",
      "metadata": {
        "colab": {
          "base_uri": "https://localhost:8080/"
        },
        "id": "b8ZLizr3PuXt",
        "outputId": "257a5320-24fb-4efd-964f-de039c0969b7"
      },
      "source": [
        "print (ll)"
      ],
      "execution_count": 39,
      "outputs": [
        {
          "output_type": "stream",
          "name": "stdout",
          "text": [
            "[1, 2, 3, 4, 9, 10, 11, 12, 12, 20, 20, 232]\n"
          ]
        }
      ]
    },
    {
      "cell_type": "code",
      "metadata": {
        "colab": {
          "base_uri": "https://localhost:8080/"
        },
        "id": "vQ3BYzrmP7aF",
        "outputId": "0cd2ef38-670d-4fd7-f7f7-a122ebd9d1ac"
      },
      "source": [
        "print(y)"
      ],
      "execution_count": 40,
      "outputs": [
        {
          "output_type": "stream",
          "name": "stdout",
          "text": [
            "[1, 2, 3, 4, 9, 10, 11, 12, 12, 20, 20]\n"
          ]
        }
      ]
    },
    {
      "cell_type": "markdown",
      "metadata": {
        "id": "UXUhec8WQbMd"
      },
      "source": [
        "**Tuplas**"
      ]
    },
    {
      "cell_type": "code",
      "metadata": {
        "colab": {
          "base_uri": "https://localhost:8080/"
        },
        "id": "BW3h_VrcQg3F",
        "outputId": "9ac073a0-4ca7-4b95-88ce-fa554a74162c"
      },
      "source": [
        "t = (1,2,3)\n",
        "t"
      ],
      "execution_count": 42,
      "outputs": [
        {
          "output_type": "execute_result",
          "data": {
            "text/plain": [
              "(1, 2, 3)"
            ]
          },
          "metadata": {},
          "execution_count": 42
        }
      ]
    },
    {
      "cell_type": "code",
      "metadata": {
        "colab": {
          "base_uri": "https://localhost:8080/"
        },
        "id": "JugvTzPdRFZ8",
        "outputId": "5231a05b-f55a-45bc-b4ad-7b4eede190a1"
      },
      "source": [
        "t = (4, 2, 3, 2)\n",
        "t"
      ],
      "execution_count": 43,
      "outputs": [
        {
          "output_type": "execute_result",
          "data": {
            "text/plain": [
              "(4, 2, 3, 2)"
            ]
          },
          "metadata": {},
          "execution_count": 43
        }
      ]
    },
    {
      "cell_type": "code",
      "metadata": {
        "colab": {
          "base_uri": "https://localhost:8080/"
        },
        "id": "NuOY6m-IRVT9",
        "outputId": "8b0fd235-bbc4-49ab-8490-a36f377a1adb"
      },
      "source": [
        "#sort no es aplicable a las tuplas porque las modificaría y son inmutable, por tanto necesitaría hacerlo con sorted\n",
        "print(sorted(t))\n"
      ],
      "execution_count": 44,
      "outputs": [
        {
          "output_type": "stream",
          "name": "stdout",
          "text": [
            "[2, 2, 3, 4]\n"
          ]
        }
      ]
    },
    {
      "cell_type": "markdown",
      "metadata": {
        "id": "qK2zciq2X_qp"
      },
      "source": [
        "**Diccionarios**"
      ]
    },
    {
      "cell_type": "code",
      "metadata": {
        "colab": {
          "base_uri": "https://localhost:8080/"
        },
        "id": "y3sYUUfqXtBr",
        "outputId": "18e819a9-a1d1-4f5c-a1d0-c4bb6189157b"
      },
      "source": [
        "d = {1:\"a\",2:\"b\", 3:\"c\"}\n",
        "print(d[1])"
      ],
      "execution_count": 45,
      "outputs": [
        {
          "output_type": "stream",
          "name": "stdout",
          "text": [
            "a\n"
          ]
        }
      ]
    },
    {
      "cell_type": "code",
      "metadata": {
        "colab": {
          "base_uri": "https://localhost:8080/"
        },
        "id": "_rvv70gwYF9R",
        "outputId": "2fb56ab1-2dea-444f-ab46-3ec17b78f1e1"
      },
      "source": [
        "a = [1]\n",
        "a"
      ],
      "execution_count": 46,
      "outputs": [
        {
          "output_type": "execute_result",
          "data": {
            "text/plain": [
              "[1]"
            ]
          },
          "metadata": {},
          "execution_count": 46
        }
      ]
    },
    {
      "cell_type": "code",
      "metadata": {
        "colab": {
          "base_uri": "https://localhost:8080/"
        },
        "id": "SqwbnOsBZqT5",
        "outputId": "76b259f9-464d-4d03-a176-0c0bbbfb0bb6"
      },
      "source": [
        "t = (1,)\n",
        "t"
      ],
      "execution_count": 48,
      "outputs": [
        {
          "output_type": "execute_result",
          "data": {
            "text/plain": [
              "(1,)"
            ]
          },
          "metadata": {},
          "execution_count": 48
        }
      ]
    },
    {
      "cell_type": "markdown",
      "metadata": {
        "id": "T-7QpSQLbonS"
      },
      "source": [
        "**Bucles**"
      ]
    },
    {
      "cell_type": "code",
      "metadata": {
        "colab": {
          "base_uri": "https://localhost:8080/"
        },
        "id": "u897rpdqbtsA",
        "outputId": "aa176a1b-b85d-4f44-f3d9-82548e8182e2"
      },
      "source": [
        "for i in range(5): print(ll[i])"
      ],
      "execution_count": 50,
      "outputs": [
        {
          "output_type": "stream",
          "name": "stdout",
          "text": [
            "1\n",
            "2\n",
            "3\n",
            "4\n",
            "9\n"
          ]
        }
      ]
    },
    {
      "cell_type": "code",
      "metadata": {
        "colab": {
          "base_uri": "https://localhost:8080/"
        },
        "id": "iueJkiRkdUYQ",
        "outputId": "1a16ca75-fbbe-4f69-af4a-904270a904b2"
      },
      "source": [
        "#Para invertir listas\n",
        "ll[::-1]"
      ],
      "execution_count": 51,
      "outputs": [
        {
          "output_type": "execute_result",
          "data": {
            "text/plain": [
              "[232, 20, 20, 12, 12, 11, 10, 9, 4, 3, 2, 1]"
            ]
          },
          "metadata": {},
          "execution_count": 51
        }
      ]
    },
    {
      "cell_type": "code",
      "metadata": {
        "colab": {
          "base_uri": "https://localhost:8080/"
        },
        "id": "7PwZmk21duIY",
        "outputId": "90255eac-9246-4543-9ca7-32347172b969"
      },
      "source": [
        "#Para imprimir\n",
        "for i in range(8,2,-2): print(ll[i])"
      ],
      "execution_count": 54,
      "outputs": [
        {
          "output_type": "stream",
          "name": "stdout",
          "text": [
            "12\n",
            "11\n",
            "9\n"
          ]
        }
      ]
    },
    {
      "cell_type": "code",
      "metadata": {
        "colab": {
          "base_uri": "https://localhost:8080/"
        },
        "id": "PB9kzN7Jd6uo",
        "outputId": "d58aafa8-f3a6-447d-bcf3-37b7eda2836d"
      },
      "source": [
        "ll"
      ],
      "execution_count": 53,
      "outputs": [
        {
          "output_type": "execute_result",
          "data": {
            "text/plain": [
              "[1, 2, 3, 4, 9, 10, 11, 12, 12, 20, 20, 232]"
            ]
          },
          "metadata": {},
          "execution_count": 53
        }
      ]
    },
    {
      "cell_type": "code",
      "metadata": {
        "colab": {
          "base_uri": "https://localhost:8080/"
        },
        "id": "nJ1euUymeNwq",
        "outputId": "5eb4002b-efa0-4dba-9548-314c62865fa4"
      },
      "source": [
        "#el simbolo _ sustituye al index\n",
        "for _ in range(5): print(ll[i])"
      ],
      "execution_count": 55,
      "outputs": [
        {
          "output_type": "stream",
          "name": "stdout",
          "text": [
            "9\n",
            "9\n",
            "9\n",
            "9\n",
            "9\n"
          ]
        }
      ]
    },
    {
      "cell_type": "code",
      "metadata": {
        "colab": {
          "base_uri": "https://localhost:8080/"
        },
        "id": "i8LMJh_zekX5",
        "outputId": "63c96c34-1753-4ba6-a4cb-f85ac3eacf57"
      },
      "source": [
        "for k in d: print (k, d[k])"
      ],
      "execution_count": 56,
      "outputs": [
        {
          "output_type": "stream",
          "name": "stdout",
          "text": [
            "1 a\n",
            "2 b\n",
            "3 c\n"
          ]
        }
      ]
    },
    {
      "cell_type": "code",
      "metadata": {
        "colab": {
          "base_uri": "https://localhost:8080/"
        },
        "id": "YJ4A_UZHe52n",
        "outputId": "4241c6d6-fa81-41f0-d292-89ba6636dce9"
      },
      "source": [
        "for x in ll: print(x)"
      ],
      "execution_count": 57,
      "outputs": [
        {
          "output_type": "stream",
          "name": "stdout",
          "text": [
            "1\n",
            "2\n",
            "3\n",
            "4\n",
            "9\n",
            "10\n",
            "11\n",
            "12\n",
            "12\n",
            "20\n",
            "20\n",
            "232\n"
          ]
        }
      ]
    }
  ]
}