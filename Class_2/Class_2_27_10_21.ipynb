{
  "nbformat": 4,
  "nbformat_minor": 0,
  "metadata": {
    "colab": {
      "name": "Class_2_27/10/21.ipynb",
      "provenance": [],
      "authorship_tag": "ABX9TyMwuXqYDhsbed7Ly/2+9yeK",
      "include_colab_link": true
    },
    "kernelspec": {
      "name": "python3",
      "display_name": "Python 3"
    },
    "language_info": {
      "name": "python"
    }
  },
  "cells": [
    {
      "cell_type": "markdown",
      "metadata": {
        "id": "view-in-github",
        "colab_type": "text"
      },
      "source": [
        "<a href=\"https://colab.research.google.com/github/Ivanbh214/Machine_learning_Course_CIFO/blob/main/Class_2/Class_2_27_10_21.ipynb\" target=\"_parent\"><img src=\"https://colab.research.google.com/assets/colab-badge.svg\" alt=\"Open In Colab\"/></a>"
      ]
    },
    {
      "cell_type": "markdown",
      "metadata": {
        "id": "iUBOZH2twWKD"
      },
      "source": [
        "Cuando el problema no es linieal se necesita reformular, por ejemplo se utiliza el kernel trick (ver medium, kernel trick)\n",
        "\n",
        "https://medium.com/@zxr.nju/what-is-the-kernel-trick-why-is-it-important-98a98db0961d#id_token=eyJhbGciOiJSUzI1NiIsImtpZCI6ImJiZDJhYzdjNGM1ZWI4YWRjOGVlZmZiYzhmNWEyZGQ2Y2Y3NTQ1ZTQiLCJ0eXAiOiJKV1QifQ.eyJpc3MiOiJodHRwczovL2FjY291bnRzLmdvb2dsZS5jb20iLCJuYmYiOjE2MzUzMjMxMDgsImF1ZCI6IjIxNjI5NjAzNTgzNC1rMWs2cWUwNjBzMnRwMmEyamFtNGxqZGNtczAwc3R0Zy5hcHBzLmdvb2dsZXVzZXJjb250ZW50LmNvbSIsInN1YiI6IjExNDA3NTcyNTIyNTM1NzcyNjU3NyIsImVtYWlsIjoiaXZhbmJhdHVlY2FzaHVlcnRhc0BnbWFpbC5jb20iLCJlbWFpbF92ZXJpZmllZCI6dHJ1ZSwiYXpwIjoiMjE2Mjk2MDM1ODM0LWsxazZxZTA2MHMydHAyYTJqYW00bGpkY21zMDBzdHRnLmFwcHMuZ29vZ2xldXNlcmNvbnRlbnQuY29tIiwibmFtZSI6Ikl2YW4gQmF0dWVjYXMgSHVlcnRhcyIsInBpY3R1cmUiOiJodHRwczovL2xoMy5nb29nbGV1c2VyY29udGVudC5jb20vYS9BQVRYQUp5eVlDTllLcWJfWUx2V25nRDMycHc3eHB5ajZkb1JJYzdUUUJuSz1zOTYtYyIsImdpdmVuX25hbWUiOiJJdmFuIiwiZmFtaWx5X25hbWUiOiJCYXR1ZWNhcyBIdWVydGFzIiwiaWF0IjoxNjM1MzIzNDA4LCJleHAiOjE2MzUzMjcwMDgsImp0aSI6ImFjOWFlMzFmMWRhMmMyYjY2NTk5ZDE4MTRlZDBmYmQ0YjNkYjBlYmMifQ.P8zBwX921oElXxvwtSTc87bRv_NAP2ycGgBQH9I9CrN2iMfRgKM34AzCCrPktW_aaFVNAxG5ev98MY4yhZXpZbDXPad61ih7-0WakXyu5comlmKylte4zmYwHcuhVyqd1iDmy4usx65H9hVnVyiUw2CpwTjEwcVENPzanufIw4-HFHR6kFG6Ygie_0e7XNFGfRw3FMhCCCjZyDs8_zfz0LYjOD1mKO-0cCA3pPq7jQrL8lKJbJbV2pkFTyHkrqqJ5xnFM978LikMwsnSk9Jad9WRSMymyVRPxJIwgWCNGaCe6D3M1lAOjXAB_6Kq0-Sp-_V5heqRJGJWzlmn_aN_hg\n",
        "\n",
        "\n",
        "**Estimación**\n",
        "Ver la diapositiva\n",
        "\n",
        "**Función de pérdida**\n",
        "https://www.youtube.com/watch?v=IVVVjBSk9N0\n",
        "\n",
        "https://towardsdatascience.com/understanding-the-3-most-common-loss-functions-for-machine-learning-regression-23e0ef3e14d3\n",
        "\n",
        "https://towardsdatascience.com/common-loss-functions-in-machine-learning-46af0ffc4d23\n",
        "\n",
        "**Descens of gradientes\n",
        "\n",
        "https://towardsdatascience.com/understanding-the-mathematics-behind-gradient-descent-dde5dc9be06e\n",
        "\n",
        "\n",
        "https://towardsdatascience.com/machine-learning-fundamentals-via-linear-regression-41a5d11f5220\n",
        "\n",
        "\n",
        "\n",
        "\n"
      ]
    },
    {
      "cell_type": "code",
      "metadata": {
        "id": "PRe7yMLJwU51"
      },
      "source": [
        ""
      ],
      "execution_count": null,
      "outputs": []
    }
  ]
}