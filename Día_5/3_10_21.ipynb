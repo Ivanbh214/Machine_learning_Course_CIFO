{
  "nbformat": 4,
  "nbformat_minor": 0,
  "metadata": {
    "colab": {
      "name": "3-10-21.ipynb",
      "provenance": [],
      "authorship_tag": "ABX9TyPZtZanVRo4MP/WCh3LgZud",
      "include_colab_link": true
    },
    "kernelspec": {
      "name": "python3",
      "display_name": "Python 3"
    },
    "language_info": {
      "name": "python"
    }
  },
  "cells": [
    {
      "cell_type": "markdown",
      "metadata": {
        "id": "view-in-github",
        "colab_type": "text"
      },
      "source": [
        "<a href=\"https://colab.research.google.com/github/Ivanbh214/Machine_learning_Course_CIFO/blob/main/D%C3%ADa_5/3_10_21.ipynb\" target=\"_parent\"><img src=\"https://colab.research.google.com/assets/colab-badge.svg\" alt=\"Open In Colab\"/></a>"
      ]
    },
    {
      "cell_type": "markdown",
      "metadata": {
        "id": "dC0v1gdd-kKf"
      },
      "source": [
        "#**Python**\n",
        "\n",
        "Creación de ficheros y apertura de ficheros\n",
        "\n",
        "\"r\" and \"w\" pude leer y escribir (ver diferencias)\n",
        "\n",
        "https://stackoverflow.com/questions/1466000/difference-between-modes-a-a-w-w-and-r-in-built-in-open-function"
      ]
    },
    {
      "cell_type": "code",
      "metadata": {
        "id": "MM2FEX-t9XAF"
      },
      "source": [
        "f = open(\"Fitxer1.txt\", \"w+\" )"
      ],
      "execution_count": 4,
      "outputs": []
    },
    {
      "cell_type": "code",
      "metadata": {
        "colab": {
          "base_uri": "https://localhost:8080/"
        },
        "id": "68AtsTZH_tg2",
        "outputId": "3cfa2ef7-9f8a-4992-d697-9c9280aadcc8"
      },
      "source": [
        "f.write(\"Primera línia.\")"
      ],
      "execution_count": 5,
      "outputs": [
        {
          "output_type": "execute_result",
          "data": {
            "text/plain": [
              "14"
            ]
          },
          "metadata": {},
          "execution_count": 5
        }
      ]
    },
    {
      "cell_type": "code",
      "metadata": {
        "colab": {
          "base_uri": "https://localhost:8080/"
        },
        "id": "yGEAD6Uc_9_t",
        "outputId": "4ce00b8a-e84e-4409-e823-f910ca7a7e8a"
      },
      "source": [
        "type(f)"
      ],
      "execution_count": 6,
      "outputs": [
        {
          "output_type": "execute_result",
          "data": {
            "text/plain": [
              "_io.TextIOWrapper"
            ]
          },
          "metadata": {},
          "execution_count": 6
        }
      ]
    },
    {
      "cell_type": "code",
      "metadata": {
        "colab": {
          "base_uri": "https://localhost:8080/"
        },
        "id": "0ma5TkBJAH0e",
        "outputId": "d86fe504-055a-4b76-852d-1b49ba838dc9"
      },
      "source": [
        "for line in f: print(line)"
      ],
      "execution_count": 7,
      "outputs": [
        {
          "output_type": "stream",
          "name": "stdout",
          "text": [
            "Primera línia.\n"
          ]
        }
      ]
    },
    {
      "cell_type": "code",
      "metadata": {
        "colab": {
          "base_uri": "https://localhost:8080/"
        },
        "id": "AKuHPoCAAM2-",
        "outputId": "12d6e6c8-883c-4f26-f78a-81a42243efe9"
      },
      "source": [
        "f.write(\"Segona línia\")"
      ],
      "execution_count": 8,
      "outputs": [
        {
          "output_type": "execute_result",
          "data": {
            "text/plain": [
              "12"
            ]
          },
          "metadata": {},
          "execution_count": 8
        }
      ]
    },
    {
      "cell_type": "code",
      "metadata": {
        "id": "4et-5wnpAQ-G"
      },
      "source": [
        "for line in f: print(line)"
      ],
      "execution_count": 9,
      "outputs": []
    },
    {
      "cell_type": "code",
      "metadata": {
        "id": "iBzR0fVSAc0O"
      },
      "source": [
        "#Para cerrar los ficheros\n",
        "f.close()"
      ],
      "execution_count": 10,
      "outputs": []
    },
    {
      "cell_type": "code",
      "metadata": {
        "id": "768Ks84yAi3G"
      },
      "source": [
        "f = open(\"Fitxer1.txt\", \"r+\")"
      ],
      "execution_count": 11,
      "outputs": []
    },
    {
      "cell_type": "code",
      "metadata": {
        "colab": {
          "base_uri": "https://localhost:8080/"
        },
        "id": "YVS3cx0GAtEt",
        "outputId": "fed83786-005a-447b-d67c-8c888257b0ca"
      },
      "source": [
        "for line in f: print(line)"
      ],
      "execution_count": 12,
      "outputs": [
        {
          "output_type": "stream",
          "name": "stdout",
          "text": [
            "Primera línia.Primera línia.Segona línia\n"
          ]
        }
      ]
    },
    {
      "cell_type": "code",
      "metadata": {
        "colab": {
          "base_uri": "https://localhost:8080/"
        },
        "id": "Ak3kKsHFA44d",
        "outputId": "1d8de205-22bd-4084-df8f-095a6f07fa79"
      },
      "source": [
        "f.write(\"Tercera linia.\\n\")"
      ],
      "execution_count": 13,
      "outputs": [
        {
          "output_type": "execute_result",
          "data": {
            "text/plain": [
              "15"
            ]
          },
          "metadata": {},
          "execution_count": 13
        }
      ]
    },
    {
      "cell_type": "code",
      "metadata": {
        "id": "h9XpY5V2BMQ0"
      },
      "source": [
        "f.close()"
      ],
      "execution_count": 15,
      "outputs": []
    },
    {
      "cell_type": "code",
      "metadata": {
        "id": "jBEbm8_rBPSz"
      },
      "source": [
        "f = open(\"Fitxer1.txt\", \"r\")"
      ],
      "execution_count": 16,
      "outputs": []
    },
    {
      "cell_type": "code",
      "metadata": {
        "colab": {
          "base_uri": "https://localhost:8080/"
        },
        "id": "eRdEPkvNA_oV",
        "outputId": "27755563-4a8c-41cb-aa49-f5365e43543d"
      },
      "source": [
        "for line in f:print(line)"
      ],
      "execution_count": 17,
      "outputs": [
        {
          "output_type": "stream",
          "name": "stdout",
          "text": [
            "Primera línia.Primera línia.Segona líniaTercera linia.\n",
            "\n"
          ]
        }
      ]
    },
    {
      "cell_type": "code",
      "metadata": {
        "id": "HX4SPcNdBpKO"
      },
      "source": [
        "#Con with no es necesario cerrar el fichero lo hace automaticamente\n",
        "with open(\"Fitxer2.txt\", \"w+\") as f:\n",
        "  f.write(\"Linea 1.\\n\")\n",
        "  f.write(\"Linea 2.\\n\")"
      ],
      "execution_count": 18,
      "outputs": []
    },
    {
      "cell_type": "code",
      "metadata": {
        "colab": {
          "base_uri": "https://localhost:8080/"
        },
        "id": "xKd2O_hRB_VO",
        "outputId": "30a72d17-7016-4a1d-e75e-342c0a3411a0"
      },
      "source": [
        "with open(\"Fitxer2.txt\", \"r+\") as f:\n",
        "  for line in f: print(line)"
      ],
      "execution_count": 20,
      "outputs": [
        {
          "output_type": "stream",
          "name": "stdout",
          "text": [
            "Linea 1.\n",
            "\n",
            "Linea 2.\n",
            "\n"
          ]
        }
      ]
    },
    {
      "cell_type": "markdown",
      "metadata": {
        "id": "kW0lwcuMBiUd"
      },
      "source": [
        "#**Tensorflow**\n",
        "%matlplotlib inline para ejecutar las graficas en google colab\n",
        "En primer lugar se importan los paquetes. Tensorflow facilita las operaciones con matrices muy grandes\n",
        "\n",
        "Keras: Es la api de tensorfolow para facilitar la elaboracion de redes neuronales a través de una capa por encima de tensorflow.\n",
        "\n",
        "matplotlib (subpaquetes pyplot)\n",
        "\n",
        "-**Celda número 2**: Carga los datos y mira columnas y filas qeu tiene cada data set.\n",
        "- mnist es un conjunto de datos de imagenes\n",
        "- Con el shape se ve el número de pixeles. En este caso el primer elemento es una matriz de matrices donde el primer elemento es una matriz de 28 por 28 (correspondería a una imagen)\n",
        "\n",
        "-**Celda número 3**: plt.matshow(x_train[0]) \n",
        "Muestra el primer elmento.\n",
        "\n",
        "Si miras sin la instrucción te da la etiqueta qu een ese caos seria un 5\n",
        "\n",
        "Array: Es una secuencia bidimensional de datos.\n",
        "\n",
        "-**Celda x_train.shape**: Esto nos indica que 60000 elementos de 28 por 28 pixeles\n",
        "\n",
        "-**#Scale the data...**\n",
        "Se reescalan los datos, en este caso es de 0 a 255 por la escala de colores que va RGB\n",
        "\n",
        "-**#Celda Flaterring ...**: Convierte los 28x28 en un array de 784 elementos. Esto lo hace con el método .reshape()\n",
        "convirtiendo la x_train en un array de 28*28 = 784\n",
        "\n",
        "-**#Sequential...**: Crearemos un percentrón monocapa .**.Sequential** (Feed-forward).\n",
        "El metodo **.layer** permite crear capas. La capa de entrada tendre 748 neuronas, y el se adiere la capa de salida que queremos con 10 neuronas. La activación será la clasica que es la sigmoidal. Esto serían los hiperparametros.\n",
        "\n",
        "-**#Optimizer...**: una vez definida el modelo se complila**.compile** se utiliza el hiperparametro adam y la función de pérdida. La metrica es como haremos la validación. Optimizer and loss son hiperparametros.\n",
        "\n",
        "-**#Does the training..**\n",
        "Entrena el modelo. y_train es la etiquetas. En este caso los epochs son los ciclos de entrenamiento.Se pasa todo el conjunto de datos. Para mejorar el entrenamiento se hacen diversas veces. \n",
        "Con los ciclos se va con la función de perdida reduciendo los datos y el algoritmo de retropropagacion va reduciendo el descenso del gradiente buscando el minimo.\n",
        "\n",
        "**Después se evalua el modelo**\n",
        "\n",
        "**#Show image**\n",
        "Se ve lo que  es\n",
        "\n",
        "**#Make the predictions**\n",
        "\n",
        "**model.predict()** \n",
        "Esta imagen muestra que la que tiene la activacion mas alta es la que corresponde al numeor 7. En este caso en python empieza desde 0.\n",
        "\n",
        "**#Find the maximum value using numpy**\n",
        "\n",
        "Con esta instrucción se comprueba cual es el número con activación mas alta.\n",
        "\n",
        "Para mejorar los resultados se puede hacer el entrenamiento en bloques. Es lo que se conoce batch training. Esto reduce el ruido y hace que el resultado sea menos estocastico. Se hace con los mismo hiperparametros diferentes bloques."
      ]
    }
  ]
}