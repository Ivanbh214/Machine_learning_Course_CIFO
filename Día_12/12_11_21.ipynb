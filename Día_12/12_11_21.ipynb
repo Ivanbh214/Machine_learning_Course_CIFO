{
  "nbformat": 4,
  "nbformat_minor": 0,
  "metadata": {
    "colab": {
      "name": "12-11-21.ipynb",
      "provenance": [],
      "authorship_tag": "ABX9TyOW+KmPZmCr0S110BTAP5yn",
      "include_colab_link": true
    },
    "kernelspec": {
      "name": "python3",
      "display_name": "Python 3"
    },
    "language_info": {
      "name": "python"
    }
  },
  "cells": [
    {
      "cell_type": "markdown",
      "metadata": {
        "id": "view-in-github",
        "colab_type": "text"
      },
      "source": [
        "<a href=\"https://colab.research.google.com/github/Ivanbh214/Machine_learning_Course_CIFO/blob/main/D%C3%ADa_12/12_11_21.ipynb\" target=\"_parent\"><img src=\"https://colab.research.google.com/assets/colab-badge.svg\" alt=\"Open In Colab\"/></a>"
      ]
    },
    {
      "cell_type": "code",
      "metadata": {
        "colab": {
          "base_uri": "https://localhost:8080/"
        },
        "id": "LzcYyhDvUBsm",
        "outputId": "31f223e5-01e1-4a03-e12b-d510403613ad"
      },
      "source": [
        "for i in range(1,21):\n",
        "  if i % 2 ==0: continue\n",
        "  print(i)\n",
        "\n",
        "  print(\"Fet.\")"
      ],
      "execution_count": null,
      "outputs": [
        {
          "output_type": "stream",
          "name": "stdout",
          "text": [
            "1\n",
            "Fet.\n",
            "3\n",
            "Fet.\n",
            "5\n",
            "Fet.\n",
            "7\n",
            "Fet.\n",
            "9\n",
            "Fet.\n",
            "11\n",
            "Fet.\n",
            "13\n",
            "Fet.\n",
            "15\n",
            "Fet.\n",
            "17\n",
            "Fet.\n",
            "19\n",
            "Fet.\n"
          ]
        }
      ]
    },
    {
      "cell_type": "code",
      "metadata": {
        "colab": {
          "base_uri": "https://localhost:8080/"
        },
        "id": "lQp4vEvnUcuZ",
        "outputId": "42113d3c-8ce2-4614-ead2-1b36a4c8b3db"
      },
      "source": [
        "for i in range(1,21):\n",
        "  if i % 2 ==0: break\n",
        "  print(i)\n",
        "\n",
        "  print(\"Fet.\")"
      ],
      "execution_count": null,
      "outputs": [
        {
          "output_type": "stream",
          "name": "stdout",
          "text": [
            "1\n",
            "Fet.\n"
          ]
        }
      ]
    },
    {
      "cell_type": "code",
      "metadata": {
        "colab": {
          "base_uri": "https://localhost:8080/"
        },
        "id": "QsL82U4_Uimh",
        "outputId": "e8198020-ed4d-4533-bdf5-66aa05e9ada4"
      },
      "source": [
        "for i in range(1, 21):\n",
        "  if i == 30: break\n",
        "  print(i)\n",
        "else: print(\"Cap nombre dels visitats és 30.\")\n",
        "\n",
        "print(\"Fet.\")"
      ],
      "execution_count": null,
      "outputs": [
        {
          "output_type": "stream",
          "name": "stdout",
          "text": [
            "1\n",
            "2\n",
            "3\n",
            "4\n",
            "5\n",
            "6\n",
            "7\n",
            "8\n",
            "9\n",
            "10\n",
            "11\n",
            "12\n",
            "13\n",
            "14\n",
            "15\n",
            "16\n",
            "17\n",
            "18\n",
            "19\n",
            "20\n",
            "Cap nombre dels visitats és 30.\n",
            "Fet.\n"
          ]
        }
      ]
    },
    {
      "cell_type": "markdown",
      "metadata": {
        "id": "FaOL4yf9XeKY"
      },
      "source": [
        "#**Biblioteca pickel**\n",
        "https://docs.python.org/3/library/pickle.html\n",
        "\n",
        "Para guardar un objeto y después recuperarlo\n",
        "\n",
        "#**Serialization**\n",
        "\n",
        "https://www.tutorialspoint.com/object_oriented_python/object_oriented_python_serialization.htm#:~:text=Pickling%20is%20the%20process%20whereby,is%20also%20known%20as%20Serialization.&text=The%20Python%20Pickle%20module%20is,in%20a%20special%20storage%20format.\n",
        "\n",
        "#**Without filter function**"
      ]
    },
    {
      "cell_type": "code",
      "metadata": {
        "id": "N8e1TlGOX5sP"
      },
      "source": [
        "from random import choice\n",
        "\n",
        "llista = list(range(1,101))\n",
        "\n",
        "filtre = [choice((True, False)) for _ in range(100)]"
      ],
      "execution_count": null,
      "outputs": []
    },
    {
      "cell_type": "code",
      "metadata": {
        "id": "GJg56dWkYGtv"
      },
      "source": [
        "z = zip(llista, filtre)\n",
        "\n",
        "filtrada = [elementLlista for elementLlista, elementFiltre in z if elementFiltre == True]"
      ],
      "execution_count": null,
      "outputs": []
    },
    {
      "cell_type": "code",
      "metadata": {
        "colab": {
          "base_uri": "https://localhost:8080/"
        },
        "id": "l-E5sya4aBAw",
        "outputId": "e2371c91-e8ce-4292-8409-43ea3fc32522"
      },
      "source": [
        "print(llista)\n",
        "print(filtre)\n",
        "print(filtrada)"
      ],
      "execution_count": null,
      "outputs": [
        {
          "output_type": "stream",
          "name": "stdout",
          "text": [
            "[1, 2, 3, 4, 5, 6, 7, 8, 9, 10, 11, 12, 13, 14, 15, 16, 17, 18, 19, 20, 21, 22, 23, 24, 25, 26, 27, 28, 29, 30, 31, 32, 33, 34, 35, 36, 37, 38, 39, 40, 41, 42, 43, 44, 45, 46, 47, 48, 49, 50, 51, 52, 53, 54, 55, 56, 57, 58, 59, 60, 61, 62, 63, 64, 65, 66, 67, 68, 69, 70, 71, 72, 73, 74, 75, 76, 77, 78, 79, 80, 81, 82, 83, 84, 85, 86, 87, 88, 89, 90, 91, 92, 93, 94, 95, 96, 97, 98, 99, 100]\n",
            "[False, False, False, False, True, False, False, True, True, False, True, False, False, True, False, True, True, True, True, True, False, False, False, False, False, True, False, True, False, False, True, False, True, True, True, False, True, False, True, True, True, True, True, False, False, False, True, False, True, True, True, True, True, True, False, False, True, True, False, True, True, False, True, True, False, True, False, True, False, False, False, False, False, False, False, False, True, False, True, False, False, True, True, True, True, False, True, True, True, False, False, False, False, True, False, False, True, True, True, False]\n",
            "[5, 8, 9, 11, 14, 16, 17, 18, 19, 20, 26, 28, 31, 33, 34, 35, 37, 39, 40, 41, 42, 43, 47, 49, 50, 51, 52, 53, 54, 57, 58, 60, 61, 63, 64, 66, 68, 77, 79, 82, 83, 84, 85, 87, 88, 89, 94, 97, 98, 99]\n"
          ]
        }
      ]
    },
    {
      "cell_type": "markdown",
      "metadata": {
        "id": "b9d1P4tPZQSw"
      },
      "source": [
        "#**Mask concept**\n",
        "\n",
        "https://towardsdatascience.com/the-concept-of-masks-in-python-50fd65e64707\n",
        "\n",
        "#**With filter function a list**\n",
        "\n",
        "https://www.pythontutorial.net/python-basics/python-filter-list/\n",
        "\n"
      ]
    },
    {
      "cell_type": "code",
      "metadata": {
        "id": "mMB4Gllfao5n"
      },
      "source": [
        "def esPrimer(n):\n",
        "  for d in range(2, n):\n",
        "    if n % d == 0: \n",
        "      return False\n",
        "  return False"
      ],
      "execution_count": null,
      "outputs": []
    },
    {
      "cell_type": "code",
      "metadata": {
        "id": "n0kJkWEBeks2"
      },
      "source": [
        "ll = list(range(1, 101))"
      ],
      "execution_count": null,
      "outputs": []
    },
    {
      "cell_type": "code",
      "metadata": {
        "colab": {
          "base_uri": "https://localhost:8080/",
          "height": 178
        },
        "id": "kvsloW65a4a3",
        "outputId": "9fc7808d-d7e6-4651-e85c-f55ac7c97b16"
      },
      "source": [
        "#No reconoce el ll como lista\n",
        "primers = list(filter(esPrimer, ll))"
      ],
      "execution_count": null,
      "outputs": [
        {
          "output_type": "error",
          "ename": "TypeError",
          "evalue": "ignored",
          "traceback": [
            "\u001b[0;31m---------------------------------------------------------------------------\u001b[0m",
            "\u001b[0;31mTypeError\u001b[0m                                 Traceback (most recent call last)",
            "\u001b[0;32m<ipython-input-54-a6d7701f0f27>\u001b[0m in \u001b[0;36m<module>\u001b[0;34m()\u001b[0m\n\u001b[1;32m      1\u001b[0m \u001b[0;31m#No reconoce el ll como lista\u001b[0m\u001b[0;34m\u001b[0m\u001b[0;34m\u001b[0m\u001b[0;34m\u001b[0m\u001b[0m\n\u001b[0;32m----> 2\u001b[0;31m \u001b[0mprimers\u001b[0m \u001b[0;34m=\u001b[0m \u001b[0mlist\u001b[0m\u001b[0;34m(\u001b[0m\u001b[0mfilter\u001b[0m\u001b[0;34m(\u001b[0m\u001b[0mesPrimer\u001b[0m\u001b[0;34m,\u001b[0m \u001b[0mll\u001b[0m\u001b[0;34m)\u001b[0m\u001b[0;34m)\u001b[0m\u001b[0;34m\u001b[0m\u001b[0;34m\u001b[0m\u001b[0m\n\u001b[0m",
            "\u001b[0;31mTypeError\u001b[0m: 'list' object is not callable"
          ]
        }
      ]
    },
    {
      "cell_type": "code",
      "metadata": {
        "colab": {
          "base_uri": "https://localhost:8080/"
        },
        "id": "kMoVyh2Fcg5X",
        "outputId": "e99a5304-caba-49cc-8241-ad823b13dfd6"
      },
      "source": [
        "type(llista)"
      ],
      "execution_count": null,
      "outputs": [
        {
          "output_type": "execute_result",
          "data": {
            "text/plain": [
              "list"
            ]
          },
          "metadata": {},
          "execution_count": 43
        }
      ]
    },
    {
      "cell_type": "markdown",
      "metadata": {
        "id": "6T9hwW91irRc"
      },
      "source": [
        "#**Ejercicios**\n",
        "\n",
        "1.   Ordenar palabras\n",
        "2.   List to file (ficher)\n",
        "3.   Fitxer to llista\n",
        "4.   Fitxer desordenatn to fitxer ordenat\n",
        "5.   Diccionario to llista \n",
        "6.   Lista a diccionario\n",
        "7.   Grafica de función con tkinter\n",
        "8.   Clases Nodo, arbol \n",
        "\n",
        "\n",
        "\n"
      ]
    },
    {
      "cell_type": "code",
      "metadata": {
        "id": "zQJ2-8To1ynx"
      },
      "source": [
        ""
      ],
      "execution_count": null,
      "outputs": []
    }
  ]
}