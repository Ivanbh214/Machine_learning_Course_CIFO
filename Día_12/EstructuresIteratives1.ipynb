{
  "nbformat": 4,
  "nbformat_minor": 0,
  "metadata": {
    "colab": {
      "name": "EstructuresIteratives1.ipynb",
      "provenance": [],
      "include_colab_link": true
    },
    "kernelspec": {
      "name": "python3",
      "display_name": "Python 3"
    },
    "language_info": {
      "name": "python"
    }
  },
  "cells": [
    {
      "cell_type": "markdown",
      "metadata": {
        "id": "view-in-github",
        "colab_type": "text"
      },
      "source": [
        "<a href=\"https://colab.research.google.com/github/Ivanbh214/Machine_learning_Course_CIFO/blob/main/D%C3%ADa_12/EstructuresIteratives1.ipynb\" target=\"_parent\"><img src=\"https://colab.research.google.com/assets/colab-badge.svg\" alt=\"Open In Colab\"/></a>"
      ]
    },
    {
      "cell_type": "code",
      "metadata": {
        "colab": {
          "base_uri": "https://localhost:8080/"
        },
        "id": "Fq_cZ3cySzir",
        "outputId": "673ea834-f3bd-4d5f-b2f6-f09549f96e04"
      },
      "source": [
        "for i in range(1, 21):\n",
        "  print(i)\n",
        "  if i == 10: break\n",
        "\n",
        "print(\"Fet.\")"
      ],
      "execution_count": null,
      "outputs": [
        {
          "output_type": "stream",
          "name": "stdout",
          "text": [
            "1\n",
            "2\n",
            "3\n",
            "4\n",
            "5\n",
            "6\n",
            "7\n",
            "8\n",
            "9\n",
            "10\n",
            "Fet.\n"
          ]
        }
      ]
    },
    {
      "cell_type": "code",
      "metadata": {
        "colab": {
          "base_uri": "https://localhost:8080/"
        },
        "id": "Jn0X-18XUIqa",
        "outputId": "b7b8cadf-86d2-4269-b6ec-f3c0ab2dba7b"
      },
      "source": [
        "for i in range(1, 21):\n",
        "  if i % 2 == 0: continue\n",
        "  print(i)\n",
        "\n",
        "print(\"Fet.\")"
      ],
      "execution_count": null,
      "outputs": [
        {
          "output_type": "stream",
          "name": "stdout",
          "text": [
            "1\n",
            "3\n",
            "5\n",
            "7\n",
            "9\n",
            "11\n",
            "13\n",
            "15\n",
            "17\n",
            "19\n",
            "Fet.\n"
          ]
        }
      ]
    },
    {
      "cell_type": "code",
      "metadata": {
        "colab": {
          "base_uri": "https://localhost:8080/"
        },
        "id": "u62Gl1SQUePh",
        "outputId": "833f0eed-1350-4024-db9f-7e5ff27dc8b6"
      },
      "source": [
        "for i in range(1, 21):\n",
        "  if i == 30: break\n",
        "  print(i)\n",
        "else: print(\"Cap nombre dels visitats és 30.\")\n",
        "\n",
        "print(\"Fet.\")"
      ],
      "execution_count": null,
      "outputs": [
        {
          "output_type": "stream",
          "name": "stdout",
          "text": [
            "1\n",
            "2\n",
            "3\n",
            "4\n",
            "5\n",
            "6\n",
            "7\n",
            "8\n",
            "9\n",
            "10\n",
            "11\n",
            "12\n",
            "13\n",
            "14\n",
            "15\n",
            "16\n",
            "17\n",
            "18\n",
            "19\n",
            "20\n",
            "Cap nombre dels visitats és 30.\n",
            "Fet.\n"
          ]
        }
      ]
    }
  ]
}