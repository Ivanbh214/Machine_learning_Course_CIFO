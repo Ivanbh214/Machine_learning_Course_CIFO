{
  "nbformat": 4,
  "nbformat_minor": 0,
  "metadata": {
    "colab": {
      "name": "Untitled8.ipynb",
      "provenance": [],
      "authorship_tag": "ABX9TyPpW977JcBv8G7xLV3oN1gn",
      "include_colab_link": true
    },
    "kernelspec": {
      "name": "python3",
      "display_name": "Python 3"
    },
    "language_info": {
      "name": "python"
    }
  },
  "cells": [
    {
      "cell_type": "markdown",
      "metadata": {
        "id": "view-in-github",
        "colab_type": "text"
      },
      "source": [
        "<a href=\"https://colab.research.google.com/github/Ivanbh214/Machine_learning_Course_CIFO/blob/main/Clase_1_26-10-21.ipynb\" target=\"_parent\"><img src=\"https://colab.research.google.com/assets/colab-badge.svg\" alt=\"Open In Colab\"/></a>"
      ]
    },
    {
      "cell_type": "markdown",
      "metadata": {
        "id": "BQBlxMncvgkC"
      },
      "source": [
        "26/10/2021 \"Machine Learning Course\""
      ]
    },
    {
      "cell_type": "code",
      "metadata": {
        "id": "GERyhUZwvb5g"
      },
      "source": [
        "Pi= 3.1416"
      ],
      "execution_count": 1,
      "outputs": []
    },
    {
      "cell_type": "code",
      "metadata": {
        "colab": {
          "base_uri": "https://localhost:8080/"
        },
        "id": "2SCfRzMAG_wa",
        "outputId": "2e1693c7-e783-447a-b0c0-775bddf8e108"
      },
      "source": [
        "x=10 \n",
        "x = x + 3\n",
        "print(x)\n"
      ],
      "execution_count": 2,
      "outputs": [
        {
          "output_type": "stream",
          "name": "stdout",
          "text": [
            "13\n"
          ]
        }
      ]
    },
    {
      "cell_type": "code",
      "metadata": {
        "colab": {
          "base_uri": "https://localhost:8080/"
        },
        "id": "UQfKxFHKHQKx",
        "outputId": "7924cecd-75c5-4799-f2b7-c76d0d1b1220"
      },
      "source": [
        "#Suma 3 a la variable \n",
        "x += 3\n",
        "x"
      ],
      "execution_count": 3,
      "outputs": [
        {
          "output_type": "execute_result",
          "data": {
            "text/plain": [
              "16"
            ]
          },
          "metadata": {},
          "execution_count": 3
        }
      ]
    },
    {
      "cell_type": "markdown",
      "metadata": {
        "id": "PFO4QNpRMdpH"
      },
      "source": [
        "**Listas  y sus operaciones**"
      ]
    },
    {
      "cell_type": "code",
      "metadata": {
        "colab": {
          "base_uri": "https://localhost:8080/"
        },
        "id": "oDTYdvLMHs3k",
        "outputId": "30c00d54-b5d4-497f-d67e-c0854931d2b0"
      },
      "source": [
        "#Para segui uniendo elementos al final de la lista\n",
        "ll = [1,2,3,4]\n",
        "\n",
        "ll.append(12)\n",
        "\n",
        "ll"
      ],
      "execution_count": 9,
      "outputs": [
        {
          "output_type": "execute_result",
          "data": {
            "text/plain": [
              "[1, 2, 3, 4, 12]"
            ]
          },
          "metadata": {},
          "execution_count": 9
        }
      ]
    },
    {
      "cell_type": "code",
      "metadata": {
        "colab": {
          "base_uri": "https://localhost:8080/"
        },
        "id": "3flkEUQPIZQo",
        "outputId": "222e528a-8272-469f-9401-c374c09cf209"
      },
      "source": [
        "#Los primeros 5 elementos de la lista \n",
        "ll[:5]"
      ],
      "execution_count": 6,
      "outputs": [
        {
          "output_type": "execute_result",
          "data": {
            "text/plain": [
              "[0, 1, 2, 3, 4]"
            ]
          },
          "metadata": {},
          "execution_count": 6
        }
      ]
    },
    {
      "cell_type": "code",
      "metadata": {
        "id": "-4m4pyo3H6Vv"
      },
      "source": [
        "ll = list(range(100))\n"
      ],
      "execution_count": 11,
      "outputs": []
    },
    {
      "cell_type": "code",
      "metadata": {
        "colab": {
          "base_uri": "https://localhost:8080/"
        },
        "id": "IBhPdR32I9tQ",
        "outputId": "0321c4e3-92ed-4fe7-b3e1-28d792aae468"
      },
      "source": [
        "#Veras los números hasta el final de la lista\n",
        "ll[90:]\n",
        "\n",
        "#Veras las listas de los 10 últimos\n",
        "ll[-10:]"
      ],
      "execution_count": 12,
      "outputs": [
        {
          "output_type": "execute_result",
          "data": {
            "text/plain": [
              "[90, 91, 92, 93, 94, 95, 96, 97, 98, 99]"
            ]
          },
          "metadata": {},
          "execution_count": 12
        }
      ]
    },
    {
      "cell_type": "code",
      "metadata": {
        "colab": {
          "base_uri": "https://localhost:8080/"
        },
        "id": "PaUpCY8iKIs3",
        "outputId": "1538a9e9-71cc-4e84-e8f2-bb5d57af556c"
      },
      "source": [
        "#Añade elementos al final\n",
        "ll = [1,2,3,4]\n",
        "\n",
        "ll.extend([9,10,11])\n",
        "ll"
      ],
      "execution_count": 20,
      "outputs": [
        {
          "output_type": "execute_result",
          "data": {
            "text/plain": [
              "[1, 2, 3, 4, 9, 10, 11]"
            ]
          },
          "metadata": {},
          "execution_count": 20
        }
      ]
    },
    {
      "cell_type": "code",
      "metadata": {
        "colab": {
          "base_uri": "https://localhost:8080/"
        },
        "id": "jq3nzbheLELX",
        "outputId": "20b00cdc-c195-4cb0-9272-070bc93b0eaf"
      },
      "source": [
        "#Ordena las listas\n",
        "sorted(ll)"
      ],
      "execution_count": 27,
      "outputs": [
        {
          "output_type": "execute_result",
          "data": {
            "text/plain": [
              "[1, 2, 3, 4, 9, 10, 11, 12, 12]"
            ]
          },
          "metadata": {},
          "execution_count": 27
        }
      ]
    },
    {
      "cell_type": "code",
      "metadata": {
        "colab": {
          "base_uri": "https://localhost:8080/"
        },
        "id": "xOdx98yAMPVG",
        "outputId": "9bb507d8-f120-4c3c-a0f7-6b6795ffa91a"
      },
      "source": [
        "ll = sorted(ll)+[12]\n",
        "ll"
      ],
      "execution_count": 26,
      "outputs": [
        {
          "output_type": "execute_result",
          "data": {
            "text/plain": [
              "[1, 2, 3, 4, 9, 10, 11, 12, 12]"
            ]
          },
          "metadata": {},
          "execution_count": 26
        }
      ]
    }
  ]
}